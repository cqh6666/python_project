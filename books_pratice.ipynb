{
 "cells": [
  {
   "cell_type": "code",
   "execution_count": 1,
   "metadata": {
    "collapsed": true,
    "pycharm": {
     "name": "#%%\n"
    }
   },
   "outputs": [
    {
     "data": {
      "text/plain": "'3.8.5 (default, Sep  3 2020, 21:29:08) [MSC v.1916 64 bit (AMD64)]'"
     },
     "execution_count": 1,
     "metadata": {},
     "output_type": "execute_result"
    }
   ],
   "source": [
    "import sys\n",
    "sys.version # 3.8.5"
   ]
  },
  {
   "cell_type": "markdown",
   "source": [
    "# Python高级编程 笔记\n",
    "## 第2章 语法最佳实践 —— 类级别以下\n",
    "* Python3 只有一种能够保存文本信息的数据类型，就是`str(string)` , 编码为`Unicode`, Unicode字符串中包含无法用字节表示的“抽象”文本\n",
    "* 每当需要修改过的字符串时，都需要创建一个全新的字符串实例\n",
    "* 字符串拼接最好用 `str.join()` (速度更快)"
   ],
   "metadata": {
    "collapsed": false,
    "pycharm": {
     "name": "#%% md\n"
    }
   }
  },
  {
   "cell_type": "code",
   "execution_count": 91,
   "outputs": [
    {
     "data": {
      "text/plain": "b'hello world!'"
     },
     "execution_count": 91,
     "metadata": {},
     "output_type": "execute_result"
    }
   ],
   "source": [
    "# 将字符串对象编码为字节序列的方法\n",
    "new_str = \"hello world!\"\n",
    "str_encode = new_str.encode(encoding='UTF-8',errors='strict')\n",
    "str_encode"
   ],
   "metadata": {
    "collapsed": false,
    "pycharm": {
     "name": "#%%\n"
    }
   }
  },
  {
   "cell_type": "code",
   "execution_count": null,
   "outputs": [],
   "source": [
    "# 字符串拼接\n",
    "str_list = ['apple', 'boy', 'cat', 'dog']\n",
    "s = \", \".join(str_list)\n",
    "s"
   ],
   "metadata": {
    "collapsed": false,
    "pycharm": {
     "name": "#%%\n"
    }
   }
  },
  {
   "cell_type": "markdown",
   "source": [
    "### 集合类型\n",
    "列表 list，元组 tuple，字典 dictionary，集合 set\n",
    "* 列表是动态的，其大小可变；而元组是不可变的，一旦创建就不能修改。\n",
    "* tuple是不可变的，因此也是可哈希的。\n",
    "* Python在内置的collections模块中提供了deque（双端队列）\n",
    "* collections模块也提供了名为`OrderDict`的有序字典"
   ],
   "metadata": {
    "collapsed": false,
    "pycharm": {
     "name": "#%% md\n"
    }
   }
  },
  {
   "cell_type": "code",
   "source": [
    "# collections的deque\n",
    "# https://www.geeksforgeeks.org/deque-in-python/\n",
    "from collections import deque\n",
    "de = deque(str_list)\n",
    "de.append('apple')   # 同理de.pop()\n",
    "de.appendleft('zero') # de.popleft()\n",
    "print(de)\n",
    "_index = de.index('apple',1,5) # 索引第一个\n",
    "_count = de.count('cat') # 数量\n",
    "_index, _count"
   ],
   "metadata": {
    "collapsed": false,
    "pycharm": {
     "name": "#%%\n"
    }
   },
   "execution_count": 27,
   "outputs": [
    {
     "name": "stdout",
     "output_type": "stream",
     "text": [
      "deque(['zero', 'apple', 'boy', 'cat', 'dog', 'apple'])\n"
     ]
    },
    {
     "data": {
      "text/plain": "(1, 1)"
     },
     "execution_count": 27,
     "metadata": {},
     "output_type": "execute_result"
    }
   ]
  },
  {
   "cell_type": "markdown",
   "source": [
    "* 列表（也可以是字典，集合等）推导"
   ],
   "metadata": {
    "collapsed": false,
    "pycharm": {
     "name": "#%% md\n"
    }
   }
  },
  {
   "cell_type": "code",
   "execution_count": 30,
   "outputs": [
    {
     "data": {
      "text/plain": "[2, 4, 6, 8]"
     },
     "execution_count": 30,
     "metadata": {},
     "output_type": "execute_result"
    }
   ],
   "source": [
    "new_list = [i for i in range(1, 10) if i % 2 == 0]\n",
    "new_list"
   ],
   "metadata": {
    "collapsed": false,
    "pycharm": {
     "name": "#%%\n"
    }
   }
  },
  {
   "cell_type": "markdown",
   "source": [
    "* enumerate() 与 zip()"
   ],
   "metadata": {
    "collapsed": false,
    "pycharm": {
     "name": "#%% md\n"
    }
   }
  },
  {
   "cell_type": "code",
   "execution_count": 31,
   "outputs": [
    {
     "name": "stdout",
     "output_type": "stream",
     "text": [
      "0 apple\n",
      "1 boy\n",
      "2 cat\n",
      "3 dog\n",
      "('apple', 2)\n",
      "('boy', 4)\n",
      "('cat', 6)\n",
      "('dog', 8)\n"
     ]
    }
   ],
   "source": [
    "for i, element in enumerate(str_list):\n",
    "    print(i, element)"
   ],
   "metadata": {
    "collapsed": false,
    "pycharm": {
     "name": "#%%\n"
    }
   }
  },
  {
   "cell_type": "code",
   "execution_count": 32,
   "outputs": [
    {
     "name": "stdout",
     "output_type": "stream",
     "text": [
      "('apple', 2)\n",
      "('boy', 4)\n",
      "('cat', 6)\n",
      "('dog', 8)\n"
     ]
    }
   ],
   "source": [
    "# zip需要两个列表都是大小相等\n",
    "for item in zip(str_list, new_list):\n",
    "    print(item)"
   ],
   "metadata": {
    "collapsed": false,
    "pycharm": {
     "name": "#%%\n"
    }
   }
  },
  {
   "cell_type": "markdown",
   "source": [
    "* 只要赋值运算符左边的变量数目与序列中的元素数目相等，你都可以用这种方法将元素序列解包到另一组变量中\n",
    "* 解包还可以利用**带星号的表达式**获取单个变量中的多个元素\n"
   ],
   "metadata": {
    "collapsed": false,
    "pycharm": {
     "name": "#%% md\n"
    }
   }
  },
  {
   "cell_type": "code",
   "execution_count": 36,
   "outputs": [
    {
     "data": {
      "text/plain": "([2, 3, 4], [1, 2])"
     },
     "execution_count": 36,
     "metadata": {},
     "output_type": "execute_result"
    }
   ],
   "source": [
    "first, second, *rest = 0, 1, 2, 3, 4  # 带星号的表达式可以获取序列的剩余部分\n",
    "first, *inner, last = 0, 1, 2, 3      # 也可以获得中间部分\n",
    "rest, inner"
   ],
   "metadata": {
    "collapsed": false,
    "pycharm": {
     "name": "#%%\n"
    }
   }
  },
  {
   "cell_type": "markdown",
   "source": [
    "* 字典的keys(),values(),items() 返回值类型不是列表,返回的*视图对象* - dict_keys\n",
    "* 视图对象可以动态查看字典的内容，因此每次字典发生变化时，视图就会相应改变。"
   ],
   "metadata": {
    "collapsed": false,
    "pycharm": {
     "name": "#%% md\n"
    }
   }
  },
  {
   "cell_type": "code",
   "execution_count": 40,
   "outputs": [
    {
     "name": "stdout",
     "output_type": "stream",
     "text": [
      "dict_items([('apple', 'A'), ('boy', 'B')])\n",
      "dict_items([('apple', 'A'), ('boy', 'B'), ('cat', 'C')])\n"
     ]
    }
   ],
   "source": [
    "new_dict = {'apple':'A', 'boy':'B'}\n",
    "items= new_dict.items()\n",
    "print(items)\n",
    "new_dict['cat'] = 'C'\n",
    "print(items)"
   ],
   "metadata": {
    "collapsed": false,
    "pycharm": {
     "name": "#%%\n"
    }
   }
  },
  {
   "cell_type": "markdown",
   "source": [
    "* 集合\n",
    "    * set() 可变的、无序的、有限的集合\n",
    "    * frozenset() 不可变的、可哈希的、无序的集合\n",
    "* 由于frozenset()可以用作其他set()的元素"
   ],
   "metadata": {
    "collapsed": false,
    "pycharm": {
     "name": "#%% md\n"
    }
   }
  },
  {
   "cell_type": "code",
   "execution_count": 41,
   "outputs": [
    {
     "data": {
      "text/plain": "{frozenset({1, 2, 3}), frozenset({2, 3, 4})}"
     },
     "execution_count": 41,
     "metadata": {},
     "output_type": "execute_result"
    }
   ],
   "source": [
    "new_set = set([frozenset([1,2,3]), frozenset([2,3,4])])\n",
    "new_set\n"
   ],
   "metadata": {
    "collapsed": false,
    "pycharm": {
     "name": "#%%\n"
    }
   }
  },
  {
   "cell_type": "markdown",
   "source": [
    "### 高级语法\n",
    "迭代器（iterator），生成器（generator），装饰器（decorator），上下文管理器（context manager）\n"
   ],
   "metadata": {
    "collapsed": false,
    "pycharm": {
     "name": "#%% md\n"
    }
   }
  },
  {
   "cell_type": "markdown",
   "source": [
    "* 迭代器\n",
    "    * `__next__`：返回容器的下一个元素\n",
    "    * `__iter__`：返回迭代器本身\n",
    "* 生成器：当你需要返回一个序列的函数或在循环中运行的函数时，都应该考虑使用生成器。当序列元素被传递到另一个函数中以进行后续处理时，一次返回一个元素\n",
    "可以提高整体性能。\n",
    "    * 生成器函数：使用`yield`， 暂停函数并返回一个中间结果\n",
    "    * 生成器表达式：将列表推导的中括号，替换成圆括号，就是一个生成器表达式\n",
    "* 装饰器：使函数包装与方法包装变得更加容易阅读核理解 @~\n",
    "* 上下文管理器: `with`\n",
    "    * 关闭一个文件、释放一个锁、创建一个临时的代码补丁、在特殊环境中运行受保护的代码"
   ],
   "metadata": {
    "collapsed": false,
    "pycharm": {
     "name": "#%% md\n"
    }
   }
  },
  {
   "cell_type": "code",
   "execution_count": 48,
   "outputs": [
    {
     "data": {
      "text/plain": "(<list_iterator at 0x280a92067c0>, 'apple', 'boy')"
     },
     "execution_count": 48,
     "metadata": {},
     "output_type": "execute_result"
    }
   ],
   "source": [
    "# 使用迭代器 可以是任何集合类型\n",
    "new_iter = iter(str_list)\n",
    "new_iter, next(new_iter),next(new_iter)   # 返回下一个元素"
   ],
   "metadata": {
    "collapsed": false,
    "pycharm": {
     "name": "#%%\n"
    }
   }
  },
  {
   "cell_type": "code",
   "execution_count": 54,
   "outputs": [
    {
     "name": "stdout",
     "output_type": "stream",
     "text": [
      "0\n",
      "1\n",
      "4\n",
      "9\n",
      "16\n"
     ]
    },
    {
     "data": {
      "text/plain": "(<generator object <genexpr> at 0x00000280A9EF5900>, 0)"
     },
     "execution_count": 54,
     "metadata": {},
     "output_type": "execute_result"
    }
   ],
   "source": [
    "# 使用生成器函数\n",
    "def gen_fun(N):\n",
    "    for i in range(N):\n",
    "        yield i ** 2\n",
    "\n",
    "# 这样就不用定义一个列表，保存并返回了\n",
    "for item in gen_fun(5):\n",
    "    print(item)\n",
    "\n",
    "# 使用生成器表达式\n",
    "gen_exp = (i**2 for i in range(5))\n",
    "gen_exp, next(gen_exp)"
   ],
   "metadata": {
    "collapsed": false,
    "pycharm": {
     "name": "#%%\n"
    }
   }
  },
  {
   "cell_type": "code",
   "execution_count": 62,
   "outputs": [
    {
     "name": "stderr",
     "output_type": "stream",
     "text": [
      "WARNING:root:bar is running\n"
     ]
    },
    {
     "name": "stdout",
     "output_type": "stream",
     "text": [
      "I am bar\n"
     ]
    }
   ],
   "source": [
    "# 装饰器\n",
    "class WithDecorators:\n",
    "    @staticmethod\n",
    "    def some_static_method(self):\n",
    "        print(\"this is static method\")\n",
    "    @classmethod\n",
    "    def some_class_method(self):\n",
    "        print(\"this is class method\")\n",
    "\n",
    "import logging\n",
    "# 自定义装饰品\n",
    "def use_logging(func):\n",
    "    def wrapper(*args, **kwargs):\n",
    "        logging.warning(\"%s is running\" % func.__name__)\n",
    "        return func(*args, **kwargs)\n",
    "    return wrapper\n",
    "\n",
    "# Aspect-Oriented Programming\n",
    "@use_logging\n",
    "def bar():\n",
    "    print(\"I am bar\")\n",
    "\n",
    "bar()"
   ],
   "metadata": {
    "collapsed": false,
    "pycharm": {
     "name": "#%%\n"
    }
   }
  },
  {
   "cell_type": "code",
   "execution_count": 76,
   "outputs": [
    {
     "name": "stderr",
     "output_type": "stream",
     "text": [
      "WARNING:root:[sum_square]'s running time is 0.002992868423461914\n"
     ]
    },
    {
     "data": {
      "text/plain": "333283335000"
     },
     "execution_count": 76,
     "metadata": {},
     "output_type": "execute_result"
    }
   ],
   "source": [
    "# 利用装饰器计算函数运行时间\n",
    "import time\n",
    "def calc_time(func):\n",
    "    def wrapper(*args, **kwargs):\n",
    "        start_time = time.time()\n",
    "        res = func(*args, **kwargs)\n",
    "        end_time = time.time()\n",
    "        logging.warning(f\"[{func.__name__}]'s running time is {end_time-start_time}\")\n",
    "        return res\n",
    "    return wrapper\n",
    "\n",
    "@calc_time\n",
    "def sum_square(T):\n",
    "    res = 0\n",
    "    for i in range(T):\n",
    "        res += i ** 2\n",
    "    return res\n",
    "\n",
    "sum_square(10000)"
   ],
   "metadata": {
    "collapsed": false,
    "pycharm": {
     "name": "#%%\n"
    }
   }
  },
  {
   "cell_type": "markdown",
   "source": [
    "### 不太常见的语法元素\n",
    "* for ... else 语句: 删除一些“哨兵”变量\n",
    "    * for循环之后else字句的含义是“没有break”\n",
    "* 函数注解(function annotation)：没有任何语法的意义，可以为函数定义注解，并在运行时获取这些注解"
   ],
   "metadata": {
    "collapsed": false,
    "pycharm": {
     "name": "#%% md\n"
    }
   }
  },
  {
   "cell_type": "code",
   "execution_count": 80,
   "outputs": [
    {
     "name": "stdout",
     "output_type": "stream",
     "text": [
      "no break\n"
     ]
    }
   ],
   "source": [
    "# for ... else\n",
    "def for_else_func(N):\n",
    "    for number in range(N):\n",
    "        if number > 10:\n",
    "            break\n",
    "    else:\n",
    "        print(\"no break\")   # 如果出现提前中止的情况，就不会运行到这里\n",
    "\n",
    "for_else_func(5)\n"
   ],
   "metadata": {
    "collapsed": false,
    "pycharm": {
     "name": "#%%\n"
    }
   }
  },
  {
   "cell_type": "code",
   "execution_count": 92,
   "outputs": [
    {
     "data": {
      "text/plain": "{'ham': list, 'eggs': 'hello world!', 'return': set}"
     },
     "execution_count": 92,
     "metadata": {},
     "output_type": "execute_result"
    }
   ],
   "source": [
    "# 函数注解\n",
    "def new_fun(ham:list, eggs:str='eggs') -> set:\n",
    "    pass\n",
    "\n",
    "new_fun.__annotations__"
   ],
   "metadata": {
    "collapsed": false,
    "pycharm": {
     "name": "#%%\n"
    }
   }
  },
  {
   "cell_type": "markdown",
   "source": [
    "### 上下文管理器\n",
    "```\n",
    "with context_manager as context:\n",
    "    # code block\n",
    "\n",
    "with A() as a, B() as b:\n",
    "    ...\n",
    "```\n",
    "#### 作为类\n",
    "* `__enter__(self)`\n",
    "* `__exit__(self,...)`\n",
    "\n",
    "#### 作为函数\n",
    "contextlib模块"
   ],
   "metadata": {
    "collapsed": false,
    "pycharm": {
     "name": "#%% md\n"
    }
   }
  },
  {
   "cell_type": "code",
   "execution_count": 5,
   "outputs": [
    {
     "name": "stdout",
     "output_type": "stream",
     "text": [
      "正常运行时......\n",
      "entering context\n",
      "inside\n",
      "leaving context\n",
      "with no error\n",
      "运行错误时......\n",
      "entering context\n",
      "leaving context\n",
      "with an error (raised within 'with)\n"
     ]
    },
    {
     "ename": "RuntimeError",
     "evalue": "raised within 'with",
     "output_type": "error",
     "traceback": [
      "\u001B[1;31m---------------------------------------------------------------------------\u001B[0m",
      "\u001B[1;31mRuntimeError\u001B[0m                              Traceback (most recent call last)",
      "\u001B[1;32m<ipython-input-5-72577a1beb45>\u001B[0m in \u001B[0;36m<module>\u001B[1;34m\u001B[0m\n\u001B[0;32m     17\u001B[0m \u001B[0mprint\u001B[0m\u001B[1;33m(\u001B[0m\u001B[1;34m\"运行错误时......\"\u001B[0m\u001B[1;33m)\u001B[0m\u001B[1;33m\u001B[0m\u001B[1;33m\u001B[0m\u001B[0m\n\u001B[0;32m     18\u001B[0m \u001B[1;32mwith\u001B[0m \u001B[0mContextIllustration\u001B[0m\u001B[1;33m(\u001B[0m\u001B[1;33m)\u001B[0m\u001B[1;33m:\u001B[0m\u001B[1;33m\u001B[0m\u001B[1;33m\u001B[0m\u001B[0m\n\u001B[1;32m---> 19\u001B[1;33m     \u001B[1;32mraise\u001B[0m \u001B[0mRuntimeError\u001B[0m\u001B[1;33m(\u001B[0m\u001B[1;34m\"raised within 'with\"\u001B[0m\u001B[1;33m)\u001B[0m\u001B[1;33m\u001B[0m\u001B[1;33m\u001B[0m\u001B[0m\n\u001B[0m",
      "\u001B[1;31mRuntimeError\u001B[0m: raised within 'with"
     ]
    }
   ],
   "source": [
    "# 作为类的例子\n",
    "class ContextIllustration:\n",
    "    def __enter__(self):\n",
    "        print('entering context')\n",
    "\n",
    "    def __exit__(self, exc_type, exc_val, exc_tb):\n",
    "        print('leaving context')\n",
    "        if exc_type is None:\n",
    "            print('with no error')\n",
    "        else:\n",
    "            print('with an error (%s)' % exc_val)\n",
    "\n",
    "print(\"正常运行时......\")\n",
    "with ContextIllustration():\n",
    "    print(\"inside\")\n",
    "\n",
    "print(\"运行错误时......\")\n",
    "with ContextIllustration():\n",
    "    raise RuntimeError(\"raised within 'with\")"
   ],
   "metadata": {
    "collapsed": false,
    "pycharm": {
     "name": "#%%\n"
    }
   }
  },
  {
   "cell_type": "markdown",
   "source": [
    "## 第3章 语法最佳实践 —— 类级别以上\n",
    "### 子类化内置类型\n",
    "其实就是java的继承机制\n",
    "> 如果打算创一个与序列或映射类似的新类，应考虑其特性并查看现有的内置类型。除了基本内置类型，collections模块还额外提供了许多有用的容器。\n",
    "> 大部分情况下最终会使用它们。"
   ],
   "metadata": {
    "collapsed": false,
    "pycharm": {
     "name": "#%% md\n"
    }
   }
  },
  {
   "cell_type": "code",
   "execution_count": 16,
   "outputs": [
    {
     "name": "stdout",
     "output_type": "stream",
     "text": [
      " project/\n",
      "  README.md\n",
      " project/\n",
      "  README.md\n",
      "  com/\n",
      "   init.config\n",
      "   src/\n",
      "    script.py\n"
     ]
    }
   ],
   "source": [
    "# list 类型用来管理序列，如果一个类需要在内部处理序列，那么就可以对 list 进行子类化\n",
    "class Folder(list):\n",
    "    def __init__(self, name):\n",
    "        self.name = name\n",
    "\n",
    "    def dir(self, nesting=0):\n",
    "        \"\"\"显示为文件夹目录的形式\"\"\"\n",
    "        offset = \" \" * nesting\n",
    "        print('%s %s/' %(offset, self.name))\n",
    "\n",
    "        for ele in self:\n",
    "            if hasattr(ele, 'dir'):\n",
    "                ele.dir(nesting+1)\n",
    "            else:\n",
    "                print(\"%s  %s\" %(offset, ele))\n",
    "    def test(self):\n",
    "        return self\n",
    "\n",
    "tree = Folder('project')\n",
    "tree.append('README.md')\n",
    "tree.dir()\n",
    "\n",
    "com = Folder('com')\n",
    "com.append('init.config')\n",
    "tree.append(com)\n",
    "\n",
    "src = Folder('src')\n",
    "src.append('script.py')\n",
    "com.append(src)\n",
    "tree.dir()\n"
   ],
   "metadata": {
    "collapsed": false,
    "pycharm": {
     "name": "#%%\n"
    }
   }
  },
  {
   "cell_type": "markdown",
   "source": [
    "### 访问超类中的方法\n",
    "super是一个内置类，可用于访问属于某个对象的超类的属性\n",
    "* 应该避免多重继承\n",
    "* super的使用必须一致\n",
    "* 调用父类时必须查看类的层次结构"
   ],
   "metadata": {
    "collapsed": false,
    "pycharm": {
     "name": "#%% md\n"
    }
   }
  },
  {
   "cell_type": "markdown",
   "source": [
    "### 高级属性访问模式\n",
    "#### 名称修饰\n",
    "python里没有`private`关键字，类似的功能是在一个属性前面加上`__`前缀来代替。\n",
    "> 这一特性可用于保护某些属性的访问，这并不是真正的锁定，而是将这种属性加上**类名为前缀**的成名，比如`__secret_value`更改为`_MyClass__secret_value`。\n",
    "> 在实践中，永远不要使用`__`的前缀的变量。如果一个属性不是公有的，约定使用`_`前缀。但这只是说明这个属性是该类的私有元素，没有真正的约束你访问。\n",
    "\n",
    "如果使用通配符从模块中导入所有名称`from my_module import *`，则Python不会导入带有**前导下划线**的名称"
   ],
   "metadata": {
    "collapsed": false,
    "pycharm": {
     "name": "#%% md\n"
    }
   }
  },
  {
   "cell_type": "code",
   "execution_count": 23,
   "outputs": [
    {
     "data": {
      "text/plain": "['_MyClass__secret_value',\n '__class__',\n '__delattr__',\n '__dict__',\n '__dir__',\n '__doc__',\n '__eq__',\n '__format__',\n '__ge__',\n '__getattribute__',\n '__gt__',\n '__hash__',\n '__init__',\n '__init_subclass__',\n '__le__',\n '__lt__',\n '__module__',\n '__ne__',\n '__new__',\n '__reduce__',\n '__reduce_ex__',\n '__repr__',\n '__setattr__',\n '__sizeof__',\n '__str__',\n '__subclasshook__',\n '__weakref__']"
     },
     "execution_count": 23,
     "metadata": {},
     "output_type": "execute_result"
    }
   ],
   "source": [
    "class MyClass:\n",
    "    __secret_value = 1\n",
    "\n",
    "mc = MyClass()\n",
    "# mc.__secret_value\n",
    "dir(MyClass)\n",
    "# 'MyClass' object has no attribute '__secret_value'"
   ],
   "metadata": {
    "collapsed": false,
    "pycharm": {
     "name": "#%%\n"
    }
   }
  },
  {
   "cell_type": "markdown",
   "source": [
    "#### 描述符\n",
    "允许你自定义在引用一个对象的属性时应该完成的事情，它在内部被用于实现property、方法、类方法、静态方法和super类型。\n",
    "描述符类基于3个特殊方法，描述符协议：\n",
    "* `__set__`, `__get__`, `__delete__`\n",
    "* 数据描述符：同时实现了`__get__, __set__`\n",
    "* 非数据描述符：只实现了`__get__`。\n",
    "\n",
    "每次属性查找中，实际上由对象的特殊方法`__getattribute__()`调用。每次通过*点号(instance.attribute形式)*函数调用来执行这样的查找，\n",
    "都会隐式地调用`__getattribute__()`\n",
    "> 数据描述符优先于`__dict__`查找，而`__dict__`查找优先于非数据描述符。"
   ],
   "metadata": {
    "collapsed": false,
    "pycharm": {
     "name": "#%% md\n"
    }
   }
  },
  {
   "cell_type": "code",
   "execution_count": 27,
   "outputs": [
    {
     "name": "stdout",
     "output_type": "stream",
     "text": [
      "in __getattribute__\n",
      "10\n",
      "in __getattribute__\n",
      "in __getattr__\n",
      "100\n"
     ]
    }
   ],
   "source": [
    "# https://zhuanlan.zhihu.com/p/67586184 各种get的区别\n",
    "\n",
    "class A(object):\n",
    "  def __init__(self, x):\n",
    "    self.x = x\n",
    "\n",
    "  def hello(self):\n",
    "    return 'hello func'\n",
    "\n",
    "  def __getattr__(self, item):\n",
    "    print('in __getattr__')\n",
    "    return 100\n",
    "\n",
    "  def __getattribute__(self, item):\n",
    "    print('in __getattribute__')\n",
    "    return super(A, self).__getattribute__(item)\n",
    "\n",
    "a = A(10)\n",
    "print(a.x)\n",
    "print(a.y)"
   ],
   "metadata": {
    "collapsed": false,
    "pycharm": {
     "name": "#%%\n"
    }
   }
  },
  {
   "cell_type": "markdown",
   "source": [
    "`__getattribute__` 必定调用，属性不存在时，`__getattr__`才会调用，通过这个方法设置属性不存在时的默认值。"
   ],
   "metadata": {
    "collapsed": false,
    "pycharm": {
     "name": "#%% md\n"
    }
   }
  },
  {
   "cell_type": "markdown",
   "source": [
    "### property\n",
    "property提供了一个内置的描述符类型，他知道如何将一个属性连接到一组方法上。其4个可选参数:`fget` `fset` `fdel` `doc` 。\n",
    "最后一个参数可以用来定义一个链接到属性的`decstring`。\n",
    "\n",
    "创建property的最佳语法是使用property作为装饰品。其使用场景：\n",
    "\n",
    "1. 修饰方法，使方法可以像属性一样访问\n",
    "2. 与所定义的属性配合使用，这样可以防止属性被修改。\n",
    "> https://zhuanlan.zhihu.com/p/64487092\n",
    "\n",
    "### 槽 slots\n",
    "能节省空间\n",
    "> https://wiki.jikexueyuan.com/project/explore-python/Class/slots.html"
   ],
   "metadata": {
    "collapsed": false,
    "pycharm": {
     "name": "#%% md\n"
    }
   }
  },
  {
   "cell_type": "markdown",
   "source": [
    "## 元编程\n",
    "### `__new__`方法 与 `__init__` 方法\n",
    " `__new__` 是在我们调用类名进行实例化时自动调用的，`__init__` 是在这个类的每一次实例化对象之后调用的。\n",
    " `__new__` 方法创建一个实例之后返回这个实例对象并传递给 `__init__`方法的 self 参数。\n",
    "\n",
    "new方法主要是当你继承一些不可变的class时(比如int, str, tuple)， 提供给你一个自定义这些类的实例化过程的途径。\n",
    "还有就是实现java中的单例模式"
   ],
   "metadata": {
    "collapsed": false,
    "pycharm": {
     "name": "#%% md\n"
    }
   }
  },
  {
   "cell_type": "code",
   "source": [
    "# 重载\n",
    "class PositiveIntegerValid(int):\n",
    "    def __new__(cls, value):\n",
    "        return super(PositiveIntegerValid, cls).__new__(cls, abs(value))\n",
    "\n",
    "p_i_v = PositiveIntegerValid(-3)\n",
    "p_i_v"
   ],
   "metadata": {
    "collapsed": false,
    "pycharm": {
     "name": "#%%\n"
    }
   },
   "execution_count": 34,
   "outputs": [
    {
     "data": {
      "text/plain": "3"
     },
     "execution_count": 34,
     "metadata": {},
     "output_type": "execute_result"
    }
   ]
  },
  {
   "cell_type": "code",
   "execution_count": 35,
   "outputs": [
    {
     "data": {
      "text/plain": "('value1', 'value1', True)"
     },
     "execution_count": 35,
     "metadata": {},
     "output_type": "execute_result"
    }
   ],
   "source": [
    "# 单例模式\n",
    "class Singleton(object):\n",
    "    def __new__(cls):\n",
    "        # 关键在于这，每一次实例化的时候，我们都只会返回这同一个instance对象\n",
    "        if not hasattr(cls, 'instance'):\n",
    "            cls.instance = super(Singleton, cls).__new__(cls)\n",
    "        return cls.instance\n",
    "\n",
    "obj1 = Singleton()\n",
    "obj2 = Singleton()\n",
    "\n",
    "obj1.attr1 = 'value1'\n",
    "obj1.attr1, obj2.attr1, obj1 is obj2\n"
   ],
   "metadata": {
    "collapsed": false,
    "pycharm": {
     "name": "#%%\n"
    }
   }
  },
  {
   "cell_type": "markdown",
   "source": [
    "### exec、eval和compile\n",
    "手动执行、求值、编译\n",
    "* exec(object, globals, locals): 这一函数允许你动态执行Python代码。\n",
    "* eval(expression, globals, locals): 这一函数对给定表达式进行求值并返回其结果\n",
    "* compile(source, filename, mode): 这一函数将源代码编译成代码对象或AST对象\n",
    "> https://www.cnblogs.com/yyds/p/6276746.html\n",
    "\n",
    "### 抽象语法树\n",
    "Python语法首先被转换成抽象语法树，然后才被编译成字节码。利用内置的AST模块，可以得到对Python语法的处理过程。"
   ],
   "metadata": {
    "collapsed": false,
    "pycharm": {
     "name": "#%% md\n"
    }
   }
  },
  {
   "cell_type": "code",
   "execution_count": 37,
   "outputs": [
    {
     "data": {
      "text/plain": "\"Module(body=[Expr(value=Call(func=Name(id='print', ctx=Load()), args=[Constant(value='hello world!', kind=None)], keywords=[]))], type_ignores=[])\""
     },
     "execution_count": 37,
     "metadata": {},
     "output_type": "execute_result"
    }
   ],
   "source": [
    "import ast\n",
    "tree = ast.parse('print(\"hello world!\")')\n",
    "ast.dump(tree) # 语法树"
   ],
   "metadata": {
    "collapsed": false,
    "pycharm": {
     "name": "#%%\n"
    }
   }
  },
  {
   "cell_type": "markdown",
   "source": [
    "## 第4章 选择好的名称\n",
    "### 命名风格\n",
    "* CamelCase\n",
    "* mixedCase\n",
    "* UPPERCASE, UPPER_CASE_WITH_UNDERSCORES\n",
    "* _\n",
    "### 变量\n",
    "#### 常量\n",
    "对于常量全局变量,使用大写加下划线。常量用来定义程序所依赖的一组值，例如默认配置文件名。所以，对于项目来说最好将所有常量\n",
    "集中放在包中的一个文件内。例如`Django`的`Settings.py`的模块提供所有常量。\n",
    "#### 公有和私有变量\n",
    "对于可变的且可以通过导入自由访问的全局变量，如果它们需要被保护，那么应该使用带一个下划线的小写字母。\n",
    "一个前缀下划线可以将变量标记为包的私有元素。\n",
    "> 位于函数和方法中的变量对于上下文来说是局部变量（相当于私有元素）。\n",
    "> 对于类或实例变量而言，只在变量作为公有签名的一部分不会带来任何有用信息或冗余的情况下，才必须使用私有标记符。\n",
    "> 换句话说，如果变量在方法内部使用，用来提供公有功能，并且只具有这个功能，那么最好将其设为私有。\n",
    "\n",
    "### 函数和方法\n",
    "函数和方法的名称应该使用**小写加下划线**，遵守PEP 8风格。\n",
    "参数名称应该使用小写，如果需要的话可以加下划线。\n",
    "### 类\n",
    "类名称始终采用驼峰式命名法，如果它们是模块的私有类，还可能有一个前缀下划线。类和实例变量通常是名词短语，与用动词短语命名的方法名称构成使用逻辑。\n",
    "### 模块\n",
    "除了特殊模块`__init__`之外，模块名称都是用小写，不带下划线。如果模块是包的私有模块，则添加一个前缀下划线。"
   ],
   "metadata": {
    "collapsed": false,
    "pycharm": {
     "name": "#%% md\n"
    }
   }
  },
  {
   "cell_type": "markdown",
   "source": [
    "### 命名指南\n",
    "#### 用 `has`,`is` 前缀命名bool元素\n",
    "`is_connnected=False`, `has_cache=False`\n",
    "#### 用复数形式命名集合变量\n",
    "`connected_users = []`\n",
    "#### 用显示名称命名字典\n",
    "如果一个变量保存的是映射，那么你应该尽可能使用显示名称。`persons_addresses={ }`\n",
    "#### 避免通用名称\n",
    "类似于`list,dict,sequence,elements`等专用名词尽量避免。还有 `manageer,object,do,handle,..`这类含义模糊、模棱两可的词。\n",
    "#### 避免现有名称\n",
    "加入后缀_也是避免冲突的方法。`class`通常被替换为`klass`或`cls`"
   ],
   "metadata": {
    "collapsed": false,
    "pycharm": {
     "name": "#%% md\n"
    }
   }
  },
  {
   "cell_type": "markdown",
   "source": [
    "### 参数的最佳实践\n",
    "函数和方法的签名是代码完整性的保证，它们驱动函数和方法的使用并构建其API。除了命名规则外，对参数也要特别小心。\n",
    "#### 通过迭代设计构建参数\n",
    "#### 信任参数和测试\n",
    "在顶部使用断言(asserting)来确保参数具有正确的内容。唯一的使用场景就是保护代码不被无意义地调用。\n",
    "#### 小心使用 `*args, **kwargs`魔法参数\n",
    "可能会破坏函数或方法的robust，使签名变得模糊。\n",
    "* 如果*args被用于处理元素序列`[]`，那么要求传入唯一的容器参数会更好些\n",
    "* 如果**kwargs适用于同样的规则，最好固定命名参数，使方法签名更有意义"
   ],
   "metadata": {
    "collapsed": false,
    "pycharm": {
     "name": "#%% md\n"
    }
   }
  },
  {
   "cell_type": "code",
   "execution_count": 16,
   "outputs": [
    {
     "ename": "AssertionError",
     "evalue": "分母不能为0",
     "output_type": "error",
     "traceback": [
      "\u001B[1;31m---------------------------------------------------------------------------\u001B[0m",
      "\u001B[1;31mAssertionError\u001B[0m                            Traceback (most recent call last)",
      "\u001B[1;32m<ipython-input-16-4534a2b8f403>\u001B[0m in \u001B[0;36m<module>\u001B[1;34m\u001B[0m\n\u001B[0;32m      5\u001B[0m     \u001B[1;32mreturn\u001B[0m \u001B[0mdividend\u001B[0m \u001B[1;33m/\u001B[0m \u001B[0mdivisor\u001B[0m\u001B[1;33m\u001B[0m\u001B[1;33m\u001B[0m\u001B[0m\n\u001B[0;32m      6\u001B[0m \u001B[1;33m\u001B[0m\u001B[0m\n\u001B[1;32m----> 7\u001B[1;33m \u001B[0mdivision\u001B[0m\u001B[1;33m(\u001B[0m\u001B[1;36m2\u001B[0m\u001B[1;33m,\u001B[0m \u001B[1;36m0\u001B[0m\u001B[1;33m)\u001B[0m\u001B[1;33m\u001B[0m\u001B[1;33m\u001B[0m\u001B[0m\n\u001B[0m\u001B[0;32m      8\u001B[0m \u001B[1;31m#%％\u001B[0m\u001B[1;33m\u001B[0m\u001B[1;33m\u001B[0m\u001B[1;33m\u001B[0m\u001B[0m\n\u001B[0;32m      9\u001B[0m \u001B[1;31m# 魔法参数的利用\u001B[0m\u001B[1;33m\u001B[0m\u001B[1;33m\u001B[0m\u001B[1;33m\u001B[0m\u001B[0m\n",
      "\u001B[1;32m<ipython-input-16-4534a2b8f403>\u001B[0m in \u001B[0;36mdivision\u001B[1;34m(dividend, divisor)\u001B[0m\n\u001B[0;32m      2\u001B[0m     \u001B[1;32massert\u001B[0m \u001B[0misinstance\u001B[0m\u001B[1;33m(\u001B[0m\u001B[0mdividend\u001B[0m\u001B[1;33m,\u001B[0m \u001B[1;33m(\u001B[0m\u001B[0mint\u001B[0m\u001B[1;33m,\u001B[0m \u001B[0mfloat\u001B[0m\u001B[1;33m)\u001B[0m\u001B[1;33m)\u001B[0m\u001B[1;33m,\u001B[0m \u001B[1;34m\"分子不为int或float类型\"\u001B[0m\u001B[1;33m\u001B[0m\u001B[1;33m\u001B[0m\u001B[0m\n\u001B[0;32m      3\u001B[0m     \u001B[1;32massert\u001B[0m \u001B[0misinstance\u001B[0m\u001B[1;33m(\u001B[0m\u001B[0mdivisor\u001B[0m\u001B[1;33m,\u001B[0m \u001B[1;33m(\u001B[0m\u001B[0mint\u001B[0m\u001B[1;33m,\u001B[0m \u001B[0mfloat\u001B[0m\u001B[1;33m)\u001B[0m\u001B[1;33m)\u001B[0m \u001B[1;33m,\u001B[0m \u001B[1;34m\"分母不为int或float类型\"\u001B[0m\u001B[1;33m\u001B[0m\u001B[1;33m\u001B[0m\u001B[0m\n\u001B[1;32m----> 4\u001B[1;33m     \u001B[1;32massert\u001B[0m \u001B[0mdivisor\u001B[0m\u001B[1;33m!=\u001B[0m\u001B[1;36m0\u001B[0m \u001B[1;33m,\u001B[0m \u001B[1;34m\"分母不能为0\"\u001B[0m\u001B[1;33m\u001B[0m\u001B[1;33m\u001B[0m\u001B[0m\n\u001B[0m\u001B[0;32m      5\u001B[0m     \u001B[1;32mreturn\u001B[0m \u001B[0mdividend\u001B[0m \u001B[1;33m/\u001B[0m \u001B[0mdivisor\u001B[0m\u001B[1;33m\u001B[0m\u001B[1;33m\u001B[0m\u001B[0m\n\u001B[0;32m      6\u001B[0m \u001B[1;33m\u001B[0m\u001B[0m\n",
      "\u001B[1;31mAssertionError\u001B[0m: 分母不能为0"
     ]
    }
   ],
   "source": [
    "def division(dividend, divisor):\n",
    "    assert isinstance(dividend, (int, float)), \"分子不为int或float类型\"\n",
    "    assert isinstance(divisor, (int, float)) , \"分母不为int或float类型\"\n",
    "    assert divisor!=0 , \"分母不能为0\"\n",
    "    return dividend / divisor\n",
    "\n",
    "division(2, 0)"
   ],
   "metadata": {
    "collapsed": false,
    "pycharm": {
     "name": "#%%\n"
    }
   }
  },
  {
   "cell_type": "code",
   "execution_count": 23,
   "outputs": [
    {
     "name": "stderr",
     "output_type": "stream",
     "text": [
      "WARNING:root:Context is :  {'get': 'request.get', 'post': 'request.post'} \n",
      "\n"
     ]
    }
   ],
   "source": [
    "# 魔法参数的利用\n",
    "def log(**context):\n",
    "    logging.warning('Context is :  %s \\n' % str(context))\n",
    "\n",
    "log(get='request.get',post='request.post')"
   ],
   "metadata": {
    "collapsed": false,
    "pycharm": {
     "name": "#%%\n"
    }
   }
  },
  {
   "cell_type": "markdown",
   "source": [],
   "metadata": {
    "collapsed": false,
    "pycharm": {
     "name": "#%% md\n"
    }
   }
  }
 ],
 "metadata": {
  "kernelspec": {
   "name": "pycharm-ace4bb5a",
   "language": "python",
   "display_name": "PyCharm (python_project)"
  },
  "language_info": {
   "codemirror_mode": {
    "name": "ipython",
    "version": 2
   },
   "file_extension": ".py",
   "mimetype": "text/x-python",
   "name": "python",
   "nbconvert_exporter": "python",
   "pygments_lexer": "ipython2",
   "version": "2.7.6"
  }
 },
 "nbformat": 4,
 "nbformat_minor": 0
}