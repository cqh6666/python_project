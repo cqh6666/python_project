{
 "cells": [
  {
   "cell_type": "code",
   "execution_count": 4,
   "metadata": {
    "collapsed": true,
    "pycharm": {
     "name": "#%%\n"
    }
   },
   "outputs": [
    {
     "data": {
      "text/plain": "'3.8.5 (default, Sep  3 2020, 21:29:08) [MSC v.1916 64 bit (AMD64)]'"
     },
     "execution_count": 4,
     "metadata": {},
     "output_type": "execute_result"
    }
   ],
   "source": [
    "import sys\n",
    "sys.version # 3.8.5"
   ]
  },
  {
   "cell_type": "markdown",
   "source": [
    "# Python高级编程 笔记\n",
    "## 第2章 语法最佳实践\n",
    "* Python3 只有一种能够保存文本信息的数据类型，就是`str(string)` , 编码为`Unicode`, Unicode字符串中包含无法用字节表示的“抽象”文本\n",
    "* 每当需要修改过的字符串时，都需要创建一个全新的字符串实例\n",
    "* 字符串拼接最好用 `str.join()` (速度更快)"
   ],
   "metadata": {
    "collapsed": false,
    "pycharm": {
     "name": "#%% md\n"
    }
   }
  },
  {
   "cell_type": "code",
   "execution_count": 91,
   "outputs": [
    {
     "data": {
      "text/plain": "b'hello world!'"
     },
     "execution_count": 91,
     "metadata": {},
     "output_type": "execute_result"
    }
   ],
   "source": [
    "# 将字符串对象编码为字节序列的方法\n",
    "new_str = \"hello world!\"\n",
    "str_encode = new_str.encode(encoding='UTF-8',errors='strict')\n",
    "str_encode"
   ],
   "metadata": {
    "collapsed": false,
    "pycharm": {
     "name": "#%%\n"
    }
   }
  },
  {
   "cell_type": "code",
   "execution_count": null,
   "outputs": [],
   "source": [
    "# 字符串拼接\n",
    "str_list = ['apple', 'boy', 'cat', 'dog']\n",
    "s = \", \".join(str_list)\n",
    "s"
   ],
   "metadata": {
    "collapsed": false,
    "pycharm": {
     "name": "#%%\n"
    }
   }
  },
  {
   "cell_type": "markdown",
   "source": [
    "### 集合类型\n",
    "列表 list，元组 tuple，字典 dictionary，集合 set\n",
    "* 列表是动态的，其大小可变；而元组是不可变的，一旦创建就不能修改。\n",
    "* tuple是不可变的，因此也是可哈希的。\n",
    "* Python在内置的collections模块中提供了deque（双端队列）\n",
    "* collections模块也提供了名为`OrderDict`的有序字典"
   ],
   "metadata": {
    "collapsed": false,
    "pycharm": {
     "name": "#%% md\n"
    }
   }
  },
  {
   "cell_type": "code",
   "source": [
    "# collections的deque\n",
    "# https://www.geeksforgeeks.org/deque-in-python/\n",
    "from collections import deque\n",
    "de = deque(str_list)\n",
    "de.append('apple')   # 同理de.pop()\n",
    "de.appendleft('zero') # de.popleft()\n",
    "print(de)\n",
    "_index = de.index('apple',1,5) # 索引第一个\n",
    "_count = de.count('cat') # 数量\n",
    "_index, _count"
   ],
   "metadata": {
    "collapsed": false,
    "pycharm": {
     "name": "#%%\n"
    }
   },
   "execution_count": 27,
   "outputs": [
    {
     "name": "stdout",
     "output_type": "stream",
     "text": [
      "deque(['zero', 'apple', 'boy', 'cat', 'dog', 'apple'])\n"
     ]
    },
    {
     "data": {
      "text/plain": "(1, 1)"
     },
     "execution_count": 27,
     "metadata": {},
     "output_type": "execute_result"
    }
   ]
  },
  {
   "cell_type": "markdown",
   "source": [
    "* 列表（也可以是字典，集合等）推导"
   ],
   "metadata": {
    "collapsed": false,
    "pycharm": {
     "name": "#%% md\n"
    }
   }
  },
  {
   "cell_type": "code",
   "execution_count": 30,
   "outputs": [
    {
     "data": {
      "text/plain": "[2, 4, 6, 8]"
     },
     "execution_count": 30,
     "metadata": {},
     "output_type": "execute_result"
    }
   ],
   "source": [
    "new_list = [i for i in range(1, 10) if i % 2 == 0]\n",
    "new_list"
   ],
   "metadata": {
    "collapsed": false,
    "pycharm": {
     "name": "#%%\n"
    }
   }
  },
  {
   "cell_type": "markdown",
   "source": [
    "* enumerate() 与 zip()"
   ],
   "metadata": {
    "collapsed": false,
    "pycharm": {
     "name": "#%% md\n"
    }
   }
  },
  {
   "cell_type": "code",
   "execution_count": 31,
   "outputs": [
    {
     "name": "stdout",
     "output_type": "stream",
     "text": [
      "0 apple\n",
      "1 boy\n",
      "2 cat\n",
      "3 dog\n",
      "('apple', 2)\n",
      "('boy', 4)\n",
      "('cat', 6)\n",
      "('dog', 8)\n"
     ]
    }
   ],
   "source": [
    "for i, element in enumerate(str_list):\n",
    "    print(i, element)"
   ],
   "metadata": {
    "collapsed": false,
    "pycharm": {
     "name": "#%%\n"
    }
   }
  },
  {
   "cell_type": "code",
   "execution_count": 32,
   "outputs": [
    {
     "name": "stdout",
     "output_type": "stream",
     "text": [
      "('apple', 2)\n",
      "('boy', 4)\n",
      "('cat', 6)\n",
      "('dog', 8)\n"
     ]
    }
   ],
   "source": [
    "# zip需要两个列表都是大小相等\n",
    "for item in zip(str_list, new_list):\n",
    "    print(item)"
   ],
   "metadata": {
    "collapsed": false,
    "pycharm": {
     "name": "#%%\n"
    }
   }
  },
  {
   "cell_type": "markdown",
   "source": [
    "* 只要赋值运算符左边的变量数目与序列中的元素数目相等，你都可以用这种方法将元素序列解包到另一组变量中\n",
    "* 解包还可以利用**带星号的表达式**获取单个变量中的多个元素\n"
   ],
   "metadata": {
    "collapsed": false,
    "pycharm": {
     "name": "#%% md\n"
    }
   }
  },
  {
   "cell_type": "code",
   "execution_count": 36,
   "outputs": [
    {
     "data": {
      "text/plain": "([2, 3, 4], [1, 2])"
     },
     "execution_count": 36,
     "metadata": {},
     "output_type": "execute_result"
    }
   ],
   "source": [
    "first, second, *rest = 0, 1, 2, 3, 4  # 带星号的表达式可以获取序列的剩余部分\n",
    "first, *inner, last = 0, 1, 2, 3      # 也可以获得中间部分\n",
    "rest, inner"
   ],
   "metadata": {
    "collapsed": false,
    "pycharm": {
     "name": "#%%\n"
    }
   }
  },
  {
   "cell_type": "markdown",
   "source": [
    "* 字典的keys(),values(),items() 返回值类型不是列表,返回的*视图对象* - dict_keys\n",
    "* 视图对象可以动态查看字典的内容，因此每次字典发生变化时，视图就会相应改变。"
   ],
   "metadata": {
    "collapsed": false,
    "pycharm": {
     "name": "#%% md\n"
    }
   }
  },
  {
   "cell_type": "code",
   "execution_count": 40,
   "outputs": [
    {
     "name": "stdout",
     "output_type": "stream",
     "text": [
      "dict_items([('apple', 'A'), ('boy', 'B')])\n",
      "dict_items([('apple', 'A'), ('boy', 'B'), ('cat', 'C')])\n"
     ]
    }
   ],
   "source": [
    "new_dict = {'apple':'A', 'boy':'B'}\n",
    "items= new_dict.items()\n",
    "print(items)\n",
    "new_dict['cat'] = 'C'\n",
    "print(items)"
   ],
   "metadata": {
    "collapsed": false,
    "pycharm": {
     "name": "#%%\n"
    }
   }
  },
  {
   "cell_type": "markdown",
   "source": [
    "* 集合\n",
    "    * set() 可变的、无序的、有限的集合\n",
    "    * frozenset() 不可变的、可哈希的、无序的集合\n",
    "* 由于frozenset()可以用作其他set()的元素"
   ],
   "metadata": {
    "collapsed": false,
    "pycharm": {
     "name": "#%% md\n"
    }
   }
  },
  {
   "cell_type": "code",
   "execution_count": 41,
   "outputs": [
    {
     "data": {
      "text/plain": "{frozenset({1, 2, 3}), frozenset({2, 3, 4})}"
     },
     "execution_count": 41,
     "metadata": {},
     "output_type": "execute_result"
    }
   ],
   "source": [
    "new_set = set([frozenset([1,2,3]), frozenset([2,3,4])])\n",
    "new_set\n"
   ],
   "metadata": {
    "collapsed": false,
    "pycharm": {
     "name": "#%%\n"
    }
   }
  },
  {
   "cell_type": "markdown",
   "source": [
    "### 高级语法\n",
    "迭代器（iterator），生成器（generator），装饰器（decorator），上下文管理器（context manager）\n"
   ],
   "metadata": {
    "collapsed": false,
    "pycharm": {
     "name": "#%% md\n"
    }
   }
  },
  {
   "cell_type": "markdown",
   "source": [
    "* 迭代器\n",
    "    * `__next__`：返回容器的下一个元素\n",
    "    * `__iter__`：返回迭代器本身\n",
    "* 生成器：当你需要返回一个序列的函数或在循环中运行的函数时，都应该考虑使用生成器。当序列元素被传递到另一个函数中以进行后续处理时，一次返回一个元素\n",
    "可以提高整体性能。\n",
    "    * 生成器函数：使用`yield`， 暂停函数并返回一个中间结果\n",
    "    * 生成器表达式：将列表推导的中括号，替换成圆括号，就是一个生成器表达式\n",
    "* 装饰器：使函数包装与方法包装变得更加容易阅读核理解 @~\n",
    "* 上下文管理器: `with`\n",
    "    * 关闭一个文件、释放一个锁、创建一个临时的代码补丁、在特殊环境中运行受保护的代码"
   ],
   "metadata": {
    "collapsed": false,
    "pycharm": {
     "name": "#%% md\n"
    }
   }
  },
  {
   "cell_type": "code",
   "execution_count": 48,
   "outputs": [
    {
     "data": {
      "text/plain": "(<list_iterator at 0x280a92067c0>, 'apple', 'boy')"
     },
     "execution_count": 48,
     "metadata": {},
     "output_type": "execute_result"
    }
   ],
   "source": [
    "# 使用迭代器 可以是任何集合类型\n",
    "new_iter = iter(str_list)\n",
    "new_iter, next(new_iter),next(new_iter)   # 返回下一个元素"
   ],
   "metadata": {
    "collapsed": false,
    "pycharm": {
     "name": "#%%\n"
    }
   }
  },
  {
   "cell_type": "code",
   "execution_count": 54,
   "outputs": [
    {
     "name": "stdout",
     "output_type": "stream",
     "text": [
      "0\n",
      "1\n",
      "4\n",
      "9\n",
      "16\n"
     ]
    },
    {
     "data": {
      "text/plain": "(<generator object <genexpr> at 0x00000280A9EF5900>, 0)"
     },
     "execution_count": 54,
     "metadata": {},
     "output_type": "execute_result"
    }
   ],
   "source": [
    "# 使用生成器函数\n",
    "def gen_fun(N):\n",
    "    for i in range(N):\n",
    "        yield i ** 2\n",
    "\n",
    "# 这样就不用定义一个列表，保存并返回了\n",
    "for item in gen_fun(5):\n",
    "    print(item)\n",
    "\n",
    "# 使用生成器表达式\n",
    "gen_exp = (i**2 for i in range(5))\n",
    "gen_exp, next(gen_exp)"
   ],
   "metadata": {
    "collapsed": false,
    "pycharm": {
     "name": "#%%\n"
    }
   }
  },
  {
   "cell_type": "code",
   "execution_count": 62,
   "outputs": [
    {
     "name": "stderr",
     "output_type": "stream",
     "text": [
      "WARNING:root:bar is running\n"
     ]
    },
    {
     "name": "stdout",
     "output_type": "stream",
     "text": [
      "I am bar\n"
     ]
    }
   ],
   "source": [
    "# 装饰器\n",
    "class WithDecorators:\n",
    "    @staticmethod\n",
    "    def some_static_method(self):\n",
    "        print(\"this is static method\")\n",
    "    @classmethod\n",
    "    def some_class_method(self):\n",
    "        print(\"this is class method\")\n",
    "\n",
    "import logging\n",
    "# 自定义装饰品\n",
    "def use_logging(func):\n",
    "    def wrapper(*args, **kwargs):\n",
    "        logging.warning(\"%s is running\" % func.__name__)\n",
    "        return func(*args, **kwargs)\n",
    "    return wrapper\n",
    "\n",
    "# Aspect-Oriented Programming\n",
    "@use_logging\n",
    "def bar():\n",
    "    print(\"I am bar\")\n",
    "\n",
    "bar()"
   ],
   "metadata": {
    "collapsed": false,
    "pycharm": {
     "name": "#%%\n"
    }
   }
  },
  {
   "cell_type": "code",
   "execution_count": 76,
   "outputs": [
    {
     "name": "stderr",
     "output_type": "stream",
     "text": [
      "WARNING:root:[sum_square]'s running time is 0.002992868423461914\n"
     ]
    },
    {
     "data": {
      "text/plain": "333283335000"
     },
     "execution_count": 76,
     "metadata": {},
     "output_type": "execute_result"
    }
   ],
   "source": [
    "# 利用装饰器计算函数运行时间\n",
    "import time\n",
    "def calc_time(func):\n",
    "    def wrapper(*args, **kwargs):\n",
    "        start_time = time.time()\n",
    "        res = func(*args, **kwargs)\n",
    "        end_time = time.time()\n",
    "        logging.warning(f\"[{func.__name__}]'s running time is {end_time-start_time}\")\n",
    "        return res\n",
    "    return wrapper\n",
    "\n",
    "@calc_time\n",
    "def sum_square(T):\n",
    "    res = 0\n",
    "    for i in range(T):\n",
    "        res += i ** 2\n",
    "    return res\n",
    "\n",
    "sum_square(10000)"
   ],
   "metadata": {
    "collapsed": false,
    "pycharm": {
     "name": "#%%\n"
    }
   }
  },
  {
   "cell_type": "markdown",
   "source": [
    "### 不太常见的语法元素\n",
    "* for ... else 语句: 删除一些“哨兵”变量\n",
    "    * for循环之后else字句的含义是“没有break”\n",
    "* 函数注解(function annotation)：没有任何语法的意义，可以为函数定义注解，并在运行时获取这些注解"
   ],
   "metadata": {
    "collapsed": false,
    "pycharm": {
     "name": "#%% md\n"
    }
   }
  },
  {
   "cell_type": "code",
   "execution_count": 80,
   "outputs": [
    {
     "name": "stdout",
     "output_type": "stream",
     "text": [
      "no break\n"
     ]
    }
   ],
   "source": [
    "# for ... else\n",
    "def for_else_func(N):\n",
    "    for number in range(N):\n",
    "        if number > 10:\n",
    "            break\n",
    "    else:\n",
    "        print(\"no break\")   # 如果出现提前中止的情况，就不会运行到这里\n",
    "\n",
    "for_else_func(5)\n"
   ],
   "metadata": {
    "collapsed": false,
    "pycharm": {
     "name": "#%%\n"
    }
   }
  },
  {
   "cell_type": "code",
   "execution_count": 92,
   "outputs": [
    {
     "data": {
      "text/plain": "{'ham': list, 'eggs': 'hello world!', 'return': set}"
     },
     "execution_count": 92,
     "metadata": {},
     "output_type": "execute_result"
    }
   ],
   "source": [
    "# 函数注解\n",
    "def new_fun(ham:list, eggs:str='eggs') -> set:\n",
    "    pass\n",
    "\n",
    "new_fun.__annotations__"
   ],
   "metadata": {
    "collapsed": false,
    "pycharm": {
     "name": "#%%\n"
    }
   }
  },
  {
   "cell_type": "code",
   "execution_count": null,
   "outputs": [],
   "source": [],
   "metadata": {
    "collapsed": false,
    "pycharm": {
     "name": "#%%\n"
    }
   }
  }
 ],
 "metadata": {
  "kernelspec": {
   "name": "pycharm-ace4bb5a",
   "language": "python",
   "display_name": "PyCharm (python_project)"
  },
  "language_info": {
   "codemirror_mode": {
    "name": "ipython",
    "version": 2
   },
   "file_extension": ".py",
   "mimetype": "text/x-python",
   "name": "python",
   "nbconvert_exporter": "python",
   "pygments_lexer": "ipython2",
   "version": "2.7.6"
  }
 },
 "nbformat": 4,
 "nbformat_minor": 0
}