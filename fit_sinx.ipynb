{
 "cells": [
  {
   "cell_type": "code",
   "execution_count": 3,
   "metadata": {
    "collapsed": true
   },
   "outputs": [
    {
     "data": {
      "text/plain": "array([[-4.76764312],\n       [ 5.6517094 ],\n       [ 3.94672444],\n       [ 2.24173948],\n       [-2.05229671],\n       [-4.45190517],\n       [ 6.15689013],\n       [-5.77800458],\n       [-5.46226662],\n       [-5.39911903],\n       [ 2.87321539],\n       [ 3.12580576],\n       [ 1.54711598],\n       [ 2.99951057],\n       [ 4.83079071],\n       [-3.63098648],\n       [ 4.00987203],\n       [ 5.14652867],\n       [-3.88357685],\n       [-1.10508284],\n       [-4.8939383 ],\n       [ 0.15786898],\n       [ 1.16823043],\n       [-1.67341116],\n       [-6.09374253],\n       [-1.48396839],\n       [-3.69413408],\n       [ 4.1993148 ],\n       [ 1.92600153],\n       [ 4.70449553],\n       [-0.53675452],\n       [ 0.28416416],\n       [ 2.74692021],\n       [-3.12580576],\n       [-3.31524853],\n       [ 5.39911903],\n       [ 0.59990211],\n       [-3.37839612],\n       [ 0.22101657],\n       [ 5.58856181],\n       [-2.99951057],\n       [ 6.09374253],\n       [ 0.66304971],\n       [-4.38875758],\n       [ 0.78934489],\n       [ 6.28318531],\n       [-5.58856181],\n       [-0.0315738 ],\n       [ 6.03059494],\n       [-3.82042926],\n       [-3.18895335],\n       [-3.06265816],\n       [-4.1993148 ],\n       [ 2.17859189],\n       [ 1.04193525],\n       [-4.32560999],\n       [-2.93636298],\n       [-4.13616721],\n       [-3.56783889],\n       [-2.68377262],\n       [ 4.76764312],\n       [-5.27282385],\n       [ 4.9570859 ],\n       [-0.91564007],\n       [ 0.47360693],\n       [-1.98914912],\n       [-2.62062503],\n       [ 3.5046913 ],\n       [ 0.53675452],\n       [ 5.33597144],\n       [ 2.30488707],\n       [ 5.27282385],\n       [-2.24173948],\n       [ 3.63098648],\n       [-5.08338108],\n       [ 2.36803466],\n       [-2.17859189],\n       [ 1.98914912],\n       [-2.49432985],\n       [ 5.02023349],\n       [ 3.75728167],\n       [ 5.71485699],\n       [ 2.93636298],\n       [-6.15689013],\n       [ 2.68377262],\n       [ 5.96744735],\n       [-6.28318531],\n       [ 3.18895335],\n       [-1.86285394],\n       [-3.44154371],\n       [ 5.90429976],\n       [ 4.38875758],\n       [-0.85249248],\n       [ 2.49432985],\n       [ 1.86285394],\n       [ 2.62062503],\n       [ 0.34731175],\n       [-1.79970634],\n       [ 5.20967626],\n       [-5.84115217],\n       [ 5.46226662],\n       [ 0.7261973 ],\n       [ 3.82042926],\n       [ 0.09472139],\n       [-2.87321539],\n       [-0.15786898],\n       [-0.78934489],\n       [ 4.07301962],\n       [ 0.41045934],\n       [-3.75728167],\n       [ 1.67341116],\n       [ 4.8939383 ],\n       [ 3.56783889],\n       [-1.4208208 ],\n       [ 3.25210094],\n       [ 5.08338108],\n       [-0.28416416],\n       [-4.51505276],\n       [-2.30488707],\n       [-1.04193525],\n       [-5.96744735],\n       [-1.61026357],\n       [ 1.61026357],\n       [ 3.06265816],\n       [-2.36803466],\n       [-1.35767321],\n       [-0.41045934],\n       [-1.92600153],\n       [ 1.23137803],\n       [-1.23137803],\n       [ 0.97878766],\n       [-5.33597144],\n       [-1.73655875],\n       [ 3.44154371],\n       [ 4.45190517],\n       [ 2.43118225],\n       [-4.83079071],\n       [-5.02023349],\n       [ 2.55747744],\n       [-2.43118225],\n       [-2.1154443 ],\n       [-1.54711598],\n       [ 4.64134794],\n       [-3.25210094],\n       [ 3.37839612],\n       [ 5.52541421],\n       [-4.9570859 ],\n       [ 5.77800458],\n       [ 6.22003772],\n       [ 5.84115217],\n       [-5.71485699],\n       [-3.94672444],\n       [ 2.8100678 ],\n       [ 4.57820035],\n       [-0.59990211],\n       [-5.20967626],\n       [ 3.69413408],\n       [-4.70449553],\n       [-5.90429976],\n       [ 1.48396839],\n       [-3.5046913 ],\n       [-0.97878766],\n       [-4.64134794],\n       [ 2.1154443 ],\n       [-0.34731175],\n       [ 1.79970634],\n       [-5.6517094 ],\n       [-2.8100678 ],\n       [-4.26246239],\n       [ 0.91564007],\n       [ 0.85249248],\n       [ 4.32560999],\n       [ 1.4208208 ],\n       [-5.52541421],\n       [-0.22101657],\n       [ 2.05229671],\n       [ 1.73655875],\n       [-6.03059494],\n       [-0.47360693],\n       [-6.22003772],\n       [ 3.88357685],\n       [-0.66304971],\n       [ 4.13616721],\n       [-1.16823043],\n       [ 1.35767321],\n       [ 3.31524853],\n       [ 4.26246239],\n       [-2.74692021],\n       [ 4.51505276],\n       [-4.00987203],\n       [ 1.10508284],\n       [-5.14652867],\n       [ 1.29452562],\n       [-2.55747744],\n       [ 0.0315738 ],\n       [-4.07301962],\n       [-4.57820035],\n       [-1.29452562],\n       [-0.7261973 ],\n       [-0.09472139]])"
     },
     "execution_count": 3,
     "metadata": {},
     "output_type": "execute_result"
    }
   ],
   "source": [
    "import numpy as np\n",
    "from sklearn.model_selection import train_test_split\n",
    "import matplotlib.pyplot as plt\n",
    "\n",
    "x = np.linspace(-2.0 * np.pi, 2.0 * np.pi, 500)\n",
    "np.random.shuffle(x)\n",
    "y = np.sin(x)\n",
    "# print(x.shape,y.shape)\n",
    "x = np.expand_dims(x,axis=1)\n",
    "y = y.reshape(500,-1)\n",
    "x\n",
    "\n",
    "# plt.scatter(x,y)\n",
    "# plt.show()"
   ]
  },
  {
   "cell_type": "code",
   "execution_count": 5,
   "outputs": [
    {
     "ename": "ModuleNotFoundError",
     "evalue": "No module named 'torch'",
     "output_type": "error",
     "traceback": [
      "\u001B[1;31m---------------------------------------------------------------------------\u001B[0m",
      "\u001B[1;31mModuleNotFoundError\u001B[0m                       Traceback (most recent call last)",
      "\u001B[1;32m<ipython-input-5-1739f0923701>\u001B[0m in \u001B[0;36m<module>\u001B[1;34m\u001B[0m\n\u001B[1;32m----> 1\u001B[1;33m \u001B[1;32mimport\u001B[0m \u001B[0mtorch\u001B[0m\u001B[1;33m\u001B[0m\u001B[1;33m\u001B[0m\u001B[0m\n\u001B[0m\u001B[0;32m      2\u001B[0m \u001B[1;32mfrom\u001B[0m \u001B[0mtorch\u001B[0m\u001B[1;33m.\u001B[0m\u001B[0mutils\u001B[0m\u001B[1;33m.\u001B[0m\u001B[0mdata\u001B[0m \u001B[1;32mimport\u001B[0m \u001B[0mDataLoader\u001B[0m\u001B[1;33m,\u001B[0m\u001B[0mTensorDataset\u001B[0m\u001B[1;33m\u001B[0m\u001B[1;33m\u001B[0m\u001B[0m\n\u001B[0;32m      3\u001B[0m \u001B[1;32mimport\u001B[0m \u001B[0mtorch\u001B[0m\u001B[1;33m.\u001B[0m\u001B[0mnn\u001B[0m \u001B[1;32mas\u001B[0m \u001B[0mnn\u001B[0m\u001B[1;33m\u001B[0m\u001B[1;33m\u001B[0m\u001B[0m\n\u001B[0;32m      4\u001B[0m \u001B[1;32mimport\u001B[0m \u001B[0mnumpy\u001B[0m \u001B[1;32mas\u001B[0m \u001B[0mnp\u001B[0m\u001B[1;33m\u001B[0m\u001B[1;33m\u001B[0m\u001B[0m\n\u001B[0;32m      5\u001B[0m \u001B[1;32mimport\u001B[0m \u001B[0mtorch\u001B[0m\u001B[1;33m\u001B[0m\u001B[1;33m\u001B[0m\u001B[0m\n",
      "\u001B[1;31mModuleNotFoundError\u001B[0m: No module named 'torch'"
     ]
    }
   ],
   "source": [
    "import torch\n",
    "from torch.utils.data import DataLoader,TensorDataset\n",
    "import torch.nn as nn\n",
    "import numpy as np\n",
    "import torch\n",
    "\n",
    "x = np.linspace(-2.0 * np.pi, 2.0 * np.pi, 500)\n",
    "np.random.shuffle(x)\n",
    "y = np.sin(x)\n",
    "\n",
    "x = np.expand_dims(x,axis=1)\n",
    "\n",
    "\n",
    "y = y.reshape(500,-1)\n",
    "\n",
    "dataset = TensorDataset(torch.tensor(x,dtype=torch.float),torch.tensor(y,dtype=torch.float))\n",
    "dataloader = DataLoader(dataset,batch_size=100,shuffle=True)\n",
    "\n",
    "dataset\n"
   ],
   "metadata": {
    "collapsed": false,
    "pycharm": {
     "name": "#%%\n"
    }
   }
  },
  {
   "cell_type": "code",
   "execution_count": 6,
   "outputs": [
    {
     "ename": "ModuleNotFoundError",
     "evalue": "No module named 'torch'",
     "output_type": "error",
     "traceback": [
      "\u001B[1;31m---------------------------------------------------------------------------\u001B[0m",
      "\u001B[1;31mModuleNotFoundError\u001B[0m                       Traceback (most recent call last)",
      "\u001B[1;32m<ipython-input-6-c2041363a5b8>\u001B[0m in \u001B[0;36m<module>\u001B[1;34m\u001B[0m\n\u001B[1;32m----> 1\u001B[1;33m \u001B[1;32mimport\u001B[0m \u001B[0mtorch\u001B[0m\u001B[1;33m\u001B[0m\u001B[1;33m\u001B[0m\u001B[0m\n\u001B[0m\u001B[0;32m      2\u001B[0m \u001B[1;33m\u001B[0m\u001B[0m\n",
      "\u001B[1;31mModuleNotFoundError\u001B[0m: No module named 'torch'"
     ]
    }
   ],
   "source": [
    "import torch\n"
   ],
   "metadata": {
    "collapsed": false,
    "pycharm": {
     "name": "#%%\n"
    }
   }
  },
  {
   "cell_type": "code",
   "execution_count": null,
   "outputs": [],
   "source": [],
   "metadata": {
    "collapsed": false,
    "pycharm": {
     "name": "#%%\n"
    }
   }
  }
 ],
 "metadata": {
  "kernelspec": {
   "name": "python3",
   "language": "python",
   "display_name": "Python 3"
  },
  "language_info": {
   "codemirror_mode": {
    "name": "ipython",
    "version": 2
   },
   "file_extension": ".py",
   "mimetype": "text/x-python",
   "name": "python",
   "nbconvert_exporter": "python",
   "pygments_lexer": "ipython2",
   "version": "2.7.6"
  }
 },
 "nbformat": 4,
 "nbformat_minor": 0
}