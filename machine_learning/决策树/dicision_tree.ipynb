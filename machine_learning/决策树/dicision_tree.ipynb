{
 "cells": [
  {
   "cell_type": "code",
   "execution_count": 1,
   "metadata": {
    "collapsed": true
   },
   "outputs": [],
   "source": [
    "import os\n",
    "# 检查工作目录\n",
    "work_path = os.getcwd()\n",
    "data_path = \"D:\\python_project\\machine_learning\\data\""
   ]
  },
  {
   "cell_type": "code",
   "execution_count": 2,
   "outputs": [
    {
     "data": {
      "text/plain": "    编号  色泽  根蒂  敲声  纹理  脐部  触感     密度    含糖率 好瓜\n0    1  青绿  蜷缩  浊响  清晰  凹陷  硬滑  0.697  0.460  是\n1    2  乌黑  蜷缩  沉闷  清晰  凹陷  硬滑  0.774  0.376  是\n2    3  乌黑  蜷缩  浊响  清晰  凹陷  硬滑  0.634  0.264  是\n3    4  青绿  蜷缩  沉闷  清晰  凹陷  硬滑  0.608  0.318  是\n4    5  浅白  蜷缩  浊响  清晰  凹陷  硬滑  0.556  0.215  是\n5    6  青绿  稍蜷  浊响  清晰  稍凹  软粘  0.403  0.237  是\n6    7  乌黑  稍蜷  浊响  稍糊  稍凹  软粘  0.481  0.149  是\n7    8  乌黑  稍蜷  浊响  清晰  稍凹  硬滑  0.437  0.211  是\n8    9  乌黑  稍蜷  沉闷  稍糊  稍凹  硬滑  0.666  0.091  否\n9   10  青绿  硬挺  清脆  清晰  平坦  软粘  0.243  0.267  否\n10  11  浅白  硬挺  清脆  模糊  平坦  硬滑  0.245  0.057  否\n11  12  浅白  蜷缩  浊响  模糊  平坦  软粘  0.343  0.099  否\n12  13  青绿  稍蜷  浊响  稍糊  凹陷  硬滑  0.639  0.161  否\n13  14  浅白  稍蜷  沉闷  稍糊  凹陷  硬滑  0.657  0.198  否\n14  15  乌黑  稍蜷  浊响  清晰  稍凹  软粘  0.360  0.370  否\n15  16  浅白  蜷缩  浊响  模糊  平坦  硬滑  0.593  0.042  否\n16  17  青绿  蜷缩  沉闷  稍糊  稍凹  硬滑  0.719  0.103  否",
      "text/html": "<div>\n<style scoped>\n    .dataframe tbody tr th:only-of-type {\n        vertical-align: middle;\n    }\n\n    .dataframe tbody tr th {\n        vertical-align: top;\n    }\n\n    .dataframe thead th {\n        text-align: right;\n    }\n</style>\n<table border=\"1\" class=\"dataframe\">\n  <thead>\n    <tr style=\"text-align: right;\">\n      <th></th>\n      <th>编号</th>\n      <th>色泽</th>\n      <th>根蒂</th>\n      <th>敲声</th>\n      <th>纹理</th>\n      <th>脐部</th>\n      <th>触感</th>\n      <th>密度</th>\n      <th>含糖率</th>\n      <th>好瓜</th>\n    </tr>\n  </thead>\n  <tbody>\n    <tr>\n      <th>0</th>\n      <td>1</td>\n      <td>青绿</td>\n      <td>蜷缩</td>\n      <td>浊响</td>\n      <td>清晰</td>\n      <td>凹陷</td>\n      <td>硬滑</td>\n      <td>0.697</td>\n      <td>0.460</td>\n      <td>是</td>\n    </tr>\n    <tr>\n      <th>1</th>\n      <td>2</td>\n      <td>乌黑</td>\n      <td>蜷缩</td>\n      <td>沉闷</td>\n      <td>清晰</td>\n      <td>凹陷</td>\n      <td>硬滑</td>\n      <td>0.774</td>\n      <td>0.376</td>\n      <td>是</td>\n    </tr>\n    <tr>\n      <th>2</th>\n      <td>3</td>\n      <td>乌黑</td>\n      <td>蜷缩</td>\n      <td>浊响</td>\n      <td>清晰</td>\n      <td>凹陷</td>\n      <td>硬滑</td>\n      <td>0.634</td>\n      <td>0.264</td>\n      <td>是</td>\n    </tr>\n    <tr>\n      <th>3</th>\n      <td>4</td>\n      <td>青绿</td>\n      <td>蜷缩</td>\n      <td>沉闷</td>\n      <td>清晰</td>\n      <td>凹陷</td>\n      <td>硬滑</td>\n      <td>0.608</td>\n      <td>0.318</td>\n      <td>是</td>\n    </tr>\n    <tr>\n      <th>4</th>\n      <td>5</td>\n      <td>浅白</td>\n      <td>蜷缩</td>\n      <td>浊响</td>\n      <td>清晰</td>\n      <td>凹陷</td>\n      <td>硬滑</td>\n      <td>0.556</td>\n      <td>0.215</td>\n      <td>是</td>\n    </tr>\n    <tr>\n      <th>5</th>\n      <td>6</td>\n      <td>青绿</td>\n      <td>稍蜷</td>\n      <td>浊响</td>\n      <td>清晰</td>\n      <td>稍凹</td>\n      <td>软粘</td>\n      <td>0.403</td>\n      <td>0.237</td>\n      <td>是</td>\n    </tr>\n    <tr>\n      <th>6</th>\n      <td>7</td>\n      <td>乌黑</td>\n      <td>稍蜷</td>\n      <td>浊响</td>\n      <td>稍糊</td>\n      <td>稍凹</td>\n      <td>软粘</td>\n      <td>0.481</td>\n      <td>0.149</td>\n      <td>是</td>\n    </tr>\n    <tr>\n      <th>7</th>\n      <td>8</td>\n      <td>乌黑</td>\n      <td>稍蜷</td>\n      <td>浊响</td>\n      <td>清晰</td>\n      <td>稍凹</td>\n      <td>硬滑</td>\n      <td>0.437</td>\n      <td>0.211</td>\n      <td>是</td>\n    </tr>\n    <tr>\n      <th>8</th>\n      <td>9</td>\n      <td>乌黑</td>\n      <td>稍蜷</td>\n      <td>沉闷</td>\n      <td>稍糊</td>\n      <td>稍凹</td>\n      <td>硬滑</td>\n      <td>0.666</td>\n      <td>0.091</td>\n      <td>否</td>\n    </tr>\n    <tr>\n      <th>9</th>\n      <td>10</td>\n      <td>青绿</td>\n      <td>硬挺</td>\n      <td>清脆</td>\n      <td>清晰</td>\n      <td>平坦</td>\n      <td>软粘</td>\n      <td>0.243</td>\n      <td>0.267</td>\n      <td>否</td>\n    </tr>\n    <tr>\n      <th>10</th>\n      <td>11</td>\n      <td>浅白</td>\n      <td>硬挺</td>\n      <td>清脆</td>\n      <td>模糊</td>\n      <td>平坦</td>\n      <td>硬滑</td>\n      <td>0.245</td>\n      <td>0.057</td>\n      <td>否</td>\n    </tr>\n    <tr>\n      <th>11</th>\n      <td>12</td>\n      <td>浅白</td>\n      <td>蜷缩</td>\n      <td>浊响</td>\n      <td>模糊</td>\n      <td>平坦</td>\n      <td>软粘</td>\n      <td>0.343</td>\n      <td>0.099</td>\n      <td>否</td>\n    </tr>\n    <tr>\n      <th>12</th>\n      <td>13</td>\n      <td>青绿</td>\n      <td>稍蜷</td>\n      <td>浊响</td>\n      <td>稍糊</td>\n      <td>凹陷</td>\n      <td>硬滑</td>\n      <td>0.639</td>\n      <td>0.161</td>\n      <td>否</td>\n    </tr>\n    <tr>\n      <th>13</th>\n      <td>14</td>\n      <td>浅白</td>\n      <td>稍蜷</td>\n      <td>沉闷</td>\n      <td>稍糊</td>\n      <td>凹陷</td>\n      <td>硬滑</td>\n      <td>0.657</td>\n      <td>0.198</td>\n      <td>否</td>\n    </tr>\n    <tr>\n      <th>14</th>\n      <td>15</td>\n      <td>乌黑</td>\n      <td>稍蜷</td>\n      <td>浊响</td>\n      <td>清晰</td>\n      <td>稍凹</td>\n      <td>软粘</td>\n      <td>0.360</td>\n      <td>0.370</td>\n      <td>否</td>\n    </tr>\n    <tr>\n      <th>15</th>\n      <td>16</td>\n      <td>浅白</td>\n      <td>蜷缩</td>\n      <td>浊响</td>\n      <td>模糊</td>\n      <td>平坦</td>\n      <td>硬滑</td>\n      <td>0.593</td>\n      <td>0.042</td>\n      <td>否</td>\n    </tr>\n    <tr>\n      <th>16</th>\n      <td>17</td>\n      <td>青绿</td>\n      <td>蜷缩</td>\n      <td>沉闷</td>\n      <td>稍糊</td>\n      <td>稍凹</td>\n      <td>硬滑</td>\n      <td>0.719</td>\n      <td>0.103</td>\n      <td>否</td>\n    </tr>\n  </tbody>\n</table>\n</div>"
     },
     "execution_count": 2,
     "metadata": {},
     "output_type": "execute_result"
    }
   ],
   "source": [
    "import os\n",
    "import pandas as pd\n",
    "\n",
    "# 读取数据\n",
    "df = pd.read_csv(os.path.join(data_path,'xigua_data3.0.csv'))\n",
    "\n",
    "df"
   ],
   "metadata": {
    "collapsed": false,
    "pycharm": {
     "name": "#%%\n"
    }
   }
  },
  {
   "cell_type": "code",
   "source": [
    "# 决策树一般每个属性都分为很多类\n",
    "# 对于一些出现具体的数字可以按数字范围进行分成几个类\n",
    "\n",
    "# 数据预处理\n",
    "\n",
    "# 处理密度\n",
    "df.loc[df['密度'] > df['密度'].median(), '密度'] = '高'\n",
    "df.loc[df['密度']!='高', '密度']= '低'\n",
    "\n",
    "# 处理含糖率\n",
    "df.loc[df['含糖率']>df['含糖率'].median(),'含糖率']='高'\n",
    "df.loc[df['含糖率']!='高','含糖率']='低'\n",
    "\n",
    "# 将标签提取出来\n",
    "# label=df['好瓜']=='是'\n",
    "# df=df.drop(['好瓜'],axis=1)"
   ],
   "metadata": {
    "collapsed": false,
    "pycharm": {
     "name": "#%%\n"
    }
   },
   "execution_count": 3,
   "outputs": []
  },
  {
   "cell_type": "code",
   "execution_count": 4,
   "outputs": [
    {
     "data": {
      "text/plain": "    编号  色泽  根蒂  敲声  纹理  脐部  触感 密度 含糖率 好瓜\n0    1  青绿  蜷缩  浊响  清晰  凹陷  硬滑  高   高  是\n1    2  乌黑  蜷缩  沉闷  清晰  凹陷  硬滑  高   高  是\n2    3  乌黑  蜷缩  浊响  清晰  凹陷  硬滑  高   高  是\n3    4  青绿  蜷缩  沉闷  清晰  凹陷  硬滑  高   高  是\n4    5  浅白  蜷缩  浊响  清晰  凹陷  硬滑  低   高  是\n5    6  青绿  稍蜷  浊响  清晰  稍凹  软粘  低   高  是\n6    7  乌黑  稍蜷  浊响  稍糊  稍凹  软粘  低   低  是\n7    8  乌黑  稍蜷  浊响  清晰  稍凹  硬滑  低   低  是\n8    9  乌黑  稍蜷  沉闷  稍糊  稍凹  硬滑  高   低  否\n9   10  青绿  硬挺  清脆  清晰  平坦  软粘  低   高  否\n10  11  浅白  硬挺  清脆  模糊  平坦  硬滑  低   低  否\n11  12  浅白  蜷缩  浊响  模糊  平坦  软粘  低   低  否\n12  13  青绿  稍蜷  浊响  稍糊  凹陷  硬滑  高   低  否\n13  14  浅白  稍蜷  沉闷  稍糊  凹陷  硬滑  高   低  否\n14  15  乌黑  稍蜷  浊响  清晰  稍凹  软粘  低   高  否\n15  16  浅白  蜷缩  浊响  模糊  平坦  硬滑  低   低  否\n16  17  青绿  蜷缩  沉闷  稍糊  稍凹  硬滑  高   低  否",
      "text/html": "<div>\n<style scoped>\n    .dataframe tbody tr th:only-of-type {\n        vertical-align: middle;\n    }\n\n    .dataframe tbody tr th {\n        vertical-align: top;\n    }\n\n    .dataframe thead th {\n        text-align: right;\n    }\n</style>\n<table border=\"1\" class=\"dataframe\">\n  <thead>\n    <tr style=\"text-align: right;\">\n      <th></th>\n      <th>编号</th>\n      <th>色泽</th>\n      <th>根蒂</th>\n      <th>敲声</th>\n      <th>纹理</th>\n      <th>脐部</th>\n      <th>触感</th>\n      <th>密度</th>\n      <th>含糖率</th>\n      <th>好瓜</th>\n    </tr>\n  </thead>\n  <tbody>\n    <tr>\n      <th>0</th>\n      <td>1</td>\n      <td>青绿</td>\n      <td>蜷缩</td>\n      <td>浊响</td>\n      <td>清晰</td>\n      <td>凹陷</td>\n      <td>硬滑</td>\n      <td>高</td>\n      <td>高</td>\n      <td>是</td>\n    </tr>\n    <tr>\n      <th>1</th>\n      <td>2</td>\n      <td>乌黑</td>\n      <td>蜷缩</td>\n      <td>沉闷</td>\n      <td>清晰</td>\n      <td>凹陷</td>\n      <td>硬滑</td>\n      <td>高</td>\n      <td>高</td>\n      <td>是</td>\n    </tr>\n    <tr>\n      <th>2</th>\n      <td>3</td>\n      <td>乌黑</td>\n      <td>蜷缩</td>\n      <td>浊响</td>\n      <td>清晰</td>\n      <td>凹陷</td>\n      <td>硬滑</td>\n      <td>高</td>\n      <td>高</td>\n      <td>是</td>\n    </tr>\n    <tr>\n      <th>3</th>\n      <td>4</td>\n      <td>青绿</td>\n      <td>蜷缩</td>\n      <td>沉闷</td>\n      <td>清晰</td>\n      <td>凹陷</td>\n      <td>硬滑</td>\n      <td>高</td>\n      <td>高</td>\n      <td>是</td>\n    </tr>\n    <tr>\n      <th>4</th>\n      <td>5</td>\n      <td>浅白</td>\n      <td>蜷缩</td>\n      <td>浊响</td>\n      <td>清晰</td>\n      <td>凹陷</td>\n      <td>硬滑</td>\n      <td>低</td>\n      <td>高</td>\n      <td>是</td>\n    </tr>\n    <tr>\n      <th>5</th>\n      <td>6</td>\n      <td>青绿</td>\n      <td>稍蜷</td>\n      <td>浊响</td>\n      <td>清晰</td>\n      <td>稍凹</td>\n      <td>软粘</td>\n      <td>低</td>\n      <td>高</td>\n      <td>是</td>\n    </tr>\n    <tr>\n      <th>6</th>\n      <td>7</td>\n      <td>乌黑</td>\n      <td>稍蜷</td>\n      <td>浊响</td>\n      <td>稍糊</td>\n      <td>稍凹</td>\n      <td>软粘</td>\n      <td>低</td>\n      <td>低</td>\n      <td>是</td>\n    </tr>\n    <tr>\n      <th>7</th>\n      <td>8</td>\n      <td>乌黑</td>\n      <td>稍蜷</td>\n      <td>浊响</td>\n      <td>清晰</td>\n      <td>稍凹</td>\n      <td>硬滑</td>\n      <td>低</td>\n      <td>低</td>\n      <td>是</td>\n    </tr>\n    <tr>\n      <th>8</th>\n      <td>9</td>\n      <td>乌黑</td>\n      <td>稍蜷</td>\n      <td>沉闷</td>\n      <td>稍糊</td>\n      <td>稍凹</td>\n      <td>硬滑</td>\n      <td>高</td>\n      <td>低</td>\n      <td>否</td>\n    </tr>\n    <tr>\n      <th>9</th>\n      <td>10</td>\n      <td>青绿</td>\n      <td>硬挺</td>\n      <td>清脆</td>\n      <td>清晰</td>\n      <td>平坦</td>\n      <td>软粘</td>\n      <td>低</td>\n      <td>高</td>\n      <td>否</td>\n    </tr>\n    <tr>\n      <th>10</th>\n      <td>11</td>\n      <td>浅白</td>\n      <td>硬挺</td>\n      <td>清脆</td>\n      <td>模糊</td>\n      <td>平坦</td>\n      <td>硬滑</td>\n      <td>低</td>\n      <td>低</td>\n      <td>否</td>\n    </tr>\n    <tr>\n      <th>11</th>\n      <td>12</td>\n      <td>浅白</td>\n      <td>蜷缩</td>\n      <td>浊响</td>\n      <td>模糊</td>\n      <td>平坦</td>\n      <td>软粘</td>\n      <td>低</td>\n      <td>低</td>\n      <td>否</td>\n    </tr>\n    <tr>\n      <th>12</th>\n      <td>13</td>\n      <td>青绿</td>\n      <td>稍蜷</td>\n      <td>浊响</td>\n      <td>稍糊</td>\n      <td>凹陷</td>\n      <td>硬滑</td>\n      <td>高</td>\n      <td>低</td>\n      <td>否</td>\n    </tr>\n    <tr>\n      <th>13</th>\n      <td>14</td>\n      <td>浅白</td>\n      <td>稍蜷</td>\n      <td>沉闷</td>\n      <td>稍糊</td>\n      <td>凹陷</td>\n      <td>硬滑</td>\n      <td>高</td>\n      <td>低</td>\n      <td>否</td>\n    </tr>\n    <tr>\n      <th>14</th>\n      <td>15</td>\n      <td>乌黑</td>\n      <td>稍蜷</td>\n      <td>浊响</td>\n      <td>清晰</td>\n      <td>稍凹</td>\n      <td>软粘</td>\n      <td>低</td>\n      <td>高</td>\n      <td>否</td>\n    </tr>\n    <tr>\n      <th>15</th>\n      <td>16</td>\n      <td>浅白</td>\n      <td>蜷缩</td>\n      <td>浊响</td>\n      <td>模糊</td>\n      <td>平坦</td>\n      <td>硬滑</td>\n      <td>低</td>\n      <td>低</td>\n      <td>否</td>\n    </tr>\n    <tr>\n      <th>16</th>\n      <td>17</td>\n      <td>青绿</td>\n      <td>蜷缩</td>\n      <td>沉闷</td>\n      <td>稍糊</td>\n      <td>稍凹</td>\n      <td>硬滑</td>\n      <td>高</td>\n      <td>低</td>\n      <td>否</td>\n    </tr>\n  </tbody>\n</table>\n</div>"
     },
     "execution_count": 4,
     "metadata": {},
     "output_type": "execute_result"
    }
   ],
   "source": [
    "# 预处理后的数据\n",
    "df\n"
   ],
   "metadata": {
    "collapsed": false,
    "pycharm": {
     "name": "#%%\n"
    }
   }
  },
  {
   "cell_type": "markdown",
   "source": [
    "计算信息熵的公式：$Ent(D)=-\\sum_{k=1}^{\\mid y \\mid} p_k\\log_2 p_k$\n",
    "\n",
    "计算信息增益的公式：$Gain(D,a)=Ent(D)-\\sum_{v=1}^V \\frac{\\mid D^v \\mid}{\\mid D \\mid} Ent(D^v)$\n",
    "\n",
    "计算信息增益率的公式:$Gain\\_ratio(D,a)=\\frac{Gain(D,a)}{IV(a)},IV(a)=-\\sum_{v=1}^V \\frac{\\mid D^v \\mid}{\\mid D \\mid} \\log_2 \\frac{\\mid D^v \\mid}{\\mid D \\mid}$"
   ],
   "metadata": {
    "collapsed": false,
    "pycharm": {
     "name": "#%% md\n"
    }
   }
  },
  {
   "cell_type": "code",
   "execution_count": 5,
   "outputs": [
    {
     "name": "stdout",
     "output_type": "stream",
     "text": [
      "    编号  色泽  根蒂  敲声  纹理  脐部  触感 密度 含糖率 好瓜\n",
      "0    1  青绿  蜷缩  浊响  清晰  凹陷  硬滑  高   高  是\n",
      "3    4  青绿  蜷缩  沉闷  清晰  凹陷  硬滑  高   高  是\n",
      "5    6  青绿  稍蜷  浊响  清晰  稍凹  软粘  低   高  是\n",
      "9   10  青绿  硬挺  清脆  清晰  平坦  软粘  低   高  否\n",
      "12  13  青绿  稍蜷  浊响  稍糊  凹陷  硬滑  高   低  否\n",
      "16  17  青绿  蜷缩  沉闷  稍糊  稍凹  硬滑  高   低  否\n",
      "    编号  色泽  根蒂  敲声  纹理  脐部  触感 密度 含糖率 好瓜\n",
      "1    2  乌黑  蜷缩  沉闷  清晰  凹陷  硬滑  高   高  是\n",
      "2    3  乌黑  蜷缩  浊响  清晰  凹陷  硬滑  高   高  是\n",
      "6    7  乌黑  稍蜷  浊响  稍糊  稍凹  软粘  低   低  是\n",
      "7    8  乌黑  稍蜷  浊响  清晰  稍凹  硬滑  低   低  是\n",
      "8    9  乌黑  稍蜷  沉闷  稍糊  稍凹  硬滑  高   低  否\n",
      "14  15  乌黑  稍蜷  浊响  清晰  稍凹  软粘  低   高  否\n",
      "    编号  色泽  根蒂  敲声  纹理  脐部  触感 密度 含糖率 好瓜\n",
      "4    5  浅白  蜷缩  浊响  清晰  凹陷  硬滑  低   高  是\n",
      "10  11  浅白  硬挺  清脆  模糊  平坦  硬滑  低   低  否\n",
      "11  12  浅白  蜷缩  浊响  模糊  平坦  软粘  低   低  否\n",
      "13  14  浅白  稍蜷  沉闷  稍糊  凹陷  硬滑  高   低  否\n",
      "15  16  浅白  蜷缩  浊响  模糊  平坦  硬滑  低   低  否\n"
     ]
    },
    {
     "data": {
      "text/plain": "17"
     },
     "execution_count": 5,
     "metadata": {},
     "output_type": "execute_result"
    }
   ],
   "source": [
    "cond = '密度'\n",
    "for i in df['色泽'].unique():\n",
    "    loc = df.loc[df['色泽']==i]\n",
    "    print(loc)\n",
    "len(df)"
   ],
   "metadata": {
    "collapsed": false,
    "pycharm": {
     "name": "#%%\n"
    }
   }
  },
  {
   "cell_type": "code",
   "execution_count": 6,
   "outputs": [],
   "source": [
    "import numpy as np\n",
    "from math import log\n",
    "\n",
    "# 计算类别信息熵\n",
    "def label_entropy(label):\n",
    "    ent = 0\n",
    "    len = label.index.size\n",
    "    for i in label.unique():\n",
    "        p = sum(label==i) / len\n",
    "        ent -= p * log(p,2)\n",
    "    return ent\n",
    "\n",
    "# 计算信息增益\n",
    "def info_gain(data,cond):\n",
    "    ent_d_cond = 0\n",
    "    label='好瓜'\n",
    "    # 检查是否存在这一列\n",
    "    try:\n",
    "        ent_D = label_entropy(data[label])\n",
    "        count = data.index.size\n",
    "        for i in data[cond].unique():\n",
    "            loc = df.loc[df[cond]==i]\n",
    "            ent_d_cond += (len(loc) / count) * label_entropy(loc[label])\n",
    "        Gain_D = ent_D - ent_d_cond\n",
    "        return Gain_D\n",
    "    except Exception as result:\n",
    "        print(\"不存在[{}]属性!\".format(result))\n",
    "\n",
    "# 计算分类信息度量\n",
    "def intrinsic_value(data,cond):\n",
    "    IV = 0\n",
    "    try:\n",
    "        count = data.index.size\n",
    "        for i in data[cond].unique():\n",
    "            loc = df.loc[df[cond]==i]\n",
    "            p = len(loc) / count\n",
    "            IV -= p * log(p,2)\n",
    "        return IV\n",
    "    except Exception as result:\n",
    "        print(\"不存在[{}]属性!\".format(result))\n",
    "\n",
    "# 计算增益率\n",
    "def gain_ratio(data,cond):\n",
    "    return info_gain(data,cond)/intrinsic_value(data,cond)"
   ],
   "metadata": {
    "collapsed": false,
    "pycharm": {
     "name": "#%%\n"
    }
   }
  },
  {
   "cell_type": "code",
   "execution_count": 7,
   "outputs": [
    {
     "name": "stdout",
     "output_type": "stream",
     "text": [
      "信息增益Gain(D,色泽)=0.10812516526536531\n",
      "IV(D,色泽)=1.5798634010685344\n",
      "信息增益率(D,色泽)=0.06843956584615814\n",
      "\n",
      "信息增益Gain(D,根蒂)=0.14267495956679288\n",
      "IV(D,根蒂)=1.402081402756032\n",
      "信息增益率(D,根蒂)=0.1017593980537369\n",
      "\n",
      "信息增益Gain(D,敲声)=0.14078143361499584\n",
      "IV(D,敲声)=1.3328204045850196\n",
      "信息增益率(D,敲声)=0.10562670944314426\n",
      "\n",
      "信息增益Gain(D,纹理)=0.3805918973682686\n",
      "IV(D,纹理)=1.4466479595102755\n",
      "信息增益率(D,纹理)=0.2630853587192754\n",
      "\n",
      "信息增益Gain(D,脐部)=0.28915878284167895\n",
      "IV(D,脐部)=1.548565226030918\n",
      "信息增益率(D,脐部)=0.1867268991844879\n",
      "\n",
      "信息增益Gain(D,触感)=0.006046489176565584\n",
      "IV(D,触感)=0.8739810481273578\n",
      "信息增益率(D,触感)=0.0069183298534003\n",
      "\n",
      "信息增益Gain(D,密度)=0.002226985278291793\n",
      "IV(D,密度)=0.9975025463691153\n",
      "信息增益率(D,密度)=0.002232560995857068\n",
      "\n",
      "信息增益Gain(D,含糖率)=0.21114574906025385\n",
      "IV(D,含糖率)=0.9975025463691153\n",
      "信息增益率(D,含糖率)=0.21167439604923233\n",
      "\n"
     ]
    }
   ],
   "source": [
    "for i in df.columns:\n",
    "    if i != '编号' and i!= '好瓜':\n",
    "        print('信息增益Gain(D,{})={}'.format(i,info_gain(df,i)))\n",
    "        print('IV(D,{})={}'.format(i,intrinsic_value(df,i)))\n",
    "        print('信息增益率(D,{})={}\\n'.format(i,gain_ratio(df,i)))\n"
   ],
   "metadata": {
    "collapsed": false,
    "pycharm": {
     "name": "#%%\n"
    }
   }
  },
  {
   "cell_type": "markdown",
   "source": [
    "构建决策树的伪代码createTree()：\n",
    "\n",
    "检测数据集中的每个子集是否属于同一分类：\n",
    "* 是的话就直接返回类标签\n",
    "* 否则：\n",
    "  * 寻找划分数据集的最好特征 通过以上的增益率选择\n",
    "  * 划分数据集\n",
    "  * 创建分支节点\n",
    "  * for 每个划分的子集: 调用createTree()并增加返回结果到分支节点中 return 分支节点\n"
   ],
   "metadata": {
    "collapsed": false,
    "pycharm": {
     "name": "#%% md\n"
    }
   }
  },
  {
   "cell_type": "code",
   "execution_count": 24,
   "outputs": [
    {
     "data": {
      "text/plain": "('纹理', ['色泽', '根蒂', '敲声', '脐部', '触感', '密度', '含糖率'])"
     },
     "execution_count": 24,
     "metadata": {},
     "output_type": "execute_result"
    }
   ],
   "source": [
    "def chooseBestFeature(data):\n",
    "    best = 0.0\n",
    "    feature = ''\n",
    "    for i in data.columns:\n",
    "        if i != '编号' and i!= '好瓜':\n",
    "            gr = gain_ratio(data,i)\n",
    "            if gr>best:\n",
    "                best = gr\n",
    "                feature = i;\n",
    "    return feature\n",
    "\n",
    "\n",
    "newTree = {}\n",
    "def createTree(data):\n",
    "    # 可划分的特征列表\n",
    "    feature_list = data.drop(['编号','好瓜'],axis=1).columns\n",
    "    feature_list = [i for i in feature_list]\n",
    "\n",
    "    lenlabel = len(data['好瓜'].unique())\n",
    "    # 只剩1类\n",
    "    if lenlabel == 1:\n",
    "        return data['好瓜'][0]\n",
    "    # 只剩一条数据\n",
    "    if len(data) == 1:\n",
    "        return data['好瓜'][0]\n",
    "\n",
    "\n",
    "    for i in feature_list:\n",
    "        bestfeature = chooseBestFeature(data)\n",
    "        # 未完待续\n",
    "\n",
    "    return bestfeature,feature_list\n",
    "\n",
    "createTree(df)"
   ],
   "metadata": {
    "collapsed": false,
    "pycharm": {
     "name": "#%%\n"
    }
   }
  },
  {
   "cell_type": "code",
   "execution_count": null,
   "outputs": [],
   "source": [
    "df = df.drop(['编号'],axis=1)"
   ],
   "metadata": {
    "collapsed": false,
    "pycharm": {
     "name": "#%%\n"
    }
   }
  },
  {
   "cell_type": "code",
   "execution_count": null,
   "outputs": [],
   "source": [
    "from sklearn import tree\n",
    "from sklearn.model_selection import train_test_split"
   ],
   "metadata": {
    "collapsed": false,
    "pycharm": {
     "name": "#%%\n"
    }
   }
  }
 ],
 "metadata": {
  "kernelspec": {
   "name": "pycharm-ace4bb5a",
   "language": "python",
   "display_name": "PyCharm (python_project)"
  },
  "language_info": {
   "codemirror_mode": {
    "name": "ipython",
    "version": 2
   },
   "file_extension": ".py",
   "mimetype": "text/x-python",
   "name": "python",
   "nbconvert_exporter": "python",
   "pygments_lexer": "ipython2",
   "version": "2.7.6"
  }
 },
 "nbformat": 4,
 "nbformat_minor": 0
}