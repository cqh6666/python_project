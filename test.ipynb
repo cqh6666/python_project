{
 "cells": [
  {
   "cell_type": "code",
   "execution_count": 20,
   "outputs": [
    {
     "data": {
      "text/plain": "array([1, 1, 2, 0, 1, 1, 2, 2, 2, 0, 2, 2, 2, 2, 1, 1, 1, 2, 1, 1, 0, 0,\n       0, 0, 0, 2, 0, 1, 0, 0, 2, 1, 2, 2, 1, 0, 1, 0, 2, 0, 0, 0, 1, 0,\n       2, 1, 2, 2, 2, 1, 0, 0, 2, 2, 2, 2, 0, 2, 0, 0, 0, 0, 2, 2, 1, 2,\n       0, 2, 2, 0, 1, 0, 2, 1, 1, 1, 2, 2, 0, 2, 0, 2, 2, 0, 1, 0, 2, 2,\n       1, 0, 0, 0, 1, 2, 1, 1, 1, 1, 0, 1, 0, 1, 1, 1, 1])"
     },
     "execution_count": 20,
     "metadata": {},
     "output_type": "execute_result"
    }
   ],
   "source": [
    "import numpy as np\n",
    "from matplotlib import pyplot as plt\n",
    "\n",
    "from sklearn import datasets\n",
    "from sklearn.model_selection import train_test_split\n",
    "from sklearn.neighbors import KNeighborsClassifier\n",
    "\n",
    "\n",
    "# C:\\Users\\cqh\\anaconda3\\Lib\\site-packages\\sklearn\\datasets\\data\n",
    "iris = datasets.load_iris()\n",
    "iris_x = iris.data\n",
    "iris_y = iris.target\n",
    "x_train,x_test,y_train,y_test = train_test_split(iris_x,iris_y,test_size=0.3)\n",
    "\n",
    "y_train"
   ],
   "metadata": {
    "collapsed": false,
    "pycharm": {
     "name": "#%%\n"
    }
   }
  },
  {
   "cell_type": "code",
   "execution_count": 22,
   "outputs": [
    {
     "data": {
      "text/plain": "array([1, 0, 1, 0, 1, 2, 0, 1, 2, 1, 0, 1, 1, 2, 1, 0, 0, 0, 2, 1, 2, 0,\n       1, 1, 1, 0, 0, 1, 1, 1, 1, 1, 0, 2, 0, 2, 1, 2, 2, 0, 2, 0, 2, 1,\n       0])"
     },
     "execution_count": 22,
     "metadata": {},
     "output_type": "execute_result"
    }
   ],
   "source": [
    "# 选择训练模型，训练数据\n",
    "knn = KNeighborsClassifier()\n",
    "knn.fit(x_train,y_train)\n",
    "\n",
    "# 预测数据\n",
    "pred = knn.predict(x_test)\n",
    "pred"
   ],
   "metadata": {
    "collapsed": false,
    "pycharm": {
     "name": "#%%\n"
    }
   }
  },
  {
   "cell_type": "code",
   "execution_count": 38,
   "outputs": [
    {
     "data": {
      "text/plain": "<Figure size 432x288 with 1 Axes>",
      "image/png": "[encoded data removed]"
     },
     "metadata": {
      "needs_background": "light"
     },
     "output_type": "display_data"
    }
   ],
   "source": [
    "from sklearn.linear_model import LinearRegression\n",
    "# make_regression\n",
    "\n",
    "X,y = datasets.make_regression(n_samples=100,n_features=1,n_targets=1,noise=1)\n",
    "\n",
    "x_range = np.arange(X.min(),X.max(),0.1)\n",
    "model=LinearRegression()\n",
    "model.fit(X,y)\n",
    "coef = model.coef_[0]\n",
    "inter = model.intercept_\n",
    "\n",
    "import matplotlib.pyplot as plt\n",
    "plt.scatter(X,y)\n",
    "plt.plot(x_range,x_range * coef + inter,c='r')\n",
    "\n",
    "plt.show()"
   ],
   "metadata": {
    "collapsed": false,
    "pycharm": {
     "name": "#%%\n"
    }
   }
  },
  {
   "cell_type": "code",
   "execution_count": null,
   "outputs": [],
   "source": [],
   "metadata": {
    "collapsed": false,
    "pycharm": {
     "name": "#%%\n"
    }
   }
  }
 ],
 "metadata": {
  "kernelspec": {
   "display_name": "Python 3",
   "language": "python",
   "name": "python3"
  },
  "language_info": {
   "codemirror_mode": {
    "name": "ipython",
    "version": 2
   },
   "file_extension": ".py",
   "mimetype": "text/x-python",
   "name": "python",
   "nbconvert_exporter": "python",
   "pygments_lexer": "ipython2",
   "version": "2.7.6"
  }
 },
 "nbformat": 4,
 "nbformat_minor": 0
}